{
 "cells": [
  {
   "cell_type": "markdown",
   "metadata": {},
   "source": [
    "`Bu notebook üzerinde daha önceden kaydettiğim ts veri setlerini kullanarak modelleme, feature selection, hyperparameter tuning vb. işlemleri yapacağım.`"
   ]
  },
  {
   "cell_type": "code",
   "execution_count": 1,
   "metadata": {},
   "outputs": [],
   "source": [
    "import numpy as np\n",
    "import pandas as pd\n",
    "from sklearn.model_selection import KFold\n",
    "from sklearn.linear_model import LogisticRegression\n",
    "from sklearn.svm import SVC\n",
    "from sklearn.ensemble import RandomForestClassifier\n",
    "from sklearn.metrics import accuracy_score, f1_score, precision_score, recall_score, roc_auc_score\n",
    "from lightgbm import LGBMClassifier\n",
    "from xgboost import XGBClassifier\n",
    "from tqdm import tqdm"
   ]
  },
  {
   "cell_type": "code",
   "execution_count": 2,
   "metadata": {},
   "outputs": [],
   "source": [
    "import sklearn\n",
    "sklearn._config.set_config(transform_output=\"pandas\")"
   ]
  },
  {
   "cell_type": "code",
   "execution_count": 3,
   "metadata": {},
   "outputs": [],
   "source": [
    "import warnings\n",
    "warnings.filterwarnings(\"ignore\")"
   ]
  },
  {
   "cell_type": "code",
   "execution_count": 4,
   "metadata": {},
   "outputs": [],
   "source": [
    "class StockSectorsExperiment:\n",
    "    \"\"\"\n",
    "    Bu sınıfın amacı, otomatik preprocessing pipeline'ı oluşturmak içindir.\n",
    "    \"\"\"\n",
    "    def __init__(self, scaler_name: str = None, imputer_name: str = None):\n",
    "        self.target = \"Sector\"\n",
    "        self.create_pipeline(scaler_name=scaler_name, imputer_name=imputer_name)\n",
    "        self.target_encoder = {\n",
    "            \"Finance\": 0,\n",
    "            \"Technology\": 1,\n",
    "            \"Healthcare\": 2\n",
    "        }\n",
    "    \n",
    "    def scaler(self, name: str = None):\n",
    "        if name == \"StandardScaler\":\n",
    "            from sklearn.preprocessing import StandardScaler\n",
    "            return StandardScaler()\n",
    "        elif name == \"MinMaxScaler\":\n",
    "            from sklearn.preprocessing import MinMaxScaler\n",
    "            return MinMaxScaler()\n",
    "        elif name == \"RobustScaler\":\n",
    "            from sklearn.preprocessing import RobustScaler\n",
    "            return RobustScaler()\n",
    "        elif name is None:\n",
    "            return None\n",
    "        else:\n",
    "            raise ValueError(\"Lütfen geçerli bir scaler adı girin. (StandardScaler, MinMaxScaler, RobustScaler)\")\n",
    "\n",
    "    def imputer(self, name: str = None):\n",
    "        if name == \"DropImputer\":\n",
    "            from feature_engine.imputation import DropMissingData\n",
    "            return DropMissingData()\n",
    "        elif name == \"MeanImputer\":\n",
    "            from feature_engine.imputation import MeanMedianImputer\n",
    "            return MeanMedianImputer(imputation_method=\"mean\")\n",
    "        elif name == \"MedianImputer\":\n",
    "            from feature_engine.imputation import MeanMedianImputer\n",
    "            return MeanMedianImputer(imputation_method=\"median\")\n",
    "        elif name is None:\n",
    "            return None\n",
    "        else:\n",
    "            raise ValueError(\"Lütfen geçerli bir imputer adı girin. (SimpleImputer)\")\n",
    "    \n",
    "    def create_pipeline(self, scaler_name: str = None, imputer_name: str = None):\n",
    "        from sklearn.pipeline import Pipeline\n",
    "        try:\n",
    "            scaler = self.scaler(name=scaler_name)\n",
    "            imputer = self.imputer(name=imputer_name)\n",
    "        except ValueError as e:\n",
    "            raise ValueError(\"Scaler veya imputer adı geçersiz.\") from e\n",
    "        if scaler is None and imputer is None:\n",
    "            self.pipeline = None\n",
    "        elif scaler is None:\n",
    "            self.pipeline = Pipeline([\n",
    "                (f\"{imputer_name}_Imputer\", imputer)\n",
    "            ])\n",
    "        elif imputer is None:\n",
    "            self.pipeline = Pipeline([\n",
    "                (f\"{scaler_name}_Scaler\", scaler)\n",
    "            ])\n",
    "        else:\n",
    "            self.pipeline = Pipeline([\n",
    "                (f\"{imputer_name}_Imputer\", imputer),\n",
    "                (f\"{scaler_name}_Scaler\", scaler)\n",
    "            ])"
   ]
  },
  {
   "cell_type": "code",
   "execution_count": 5,
   "metadata": {},
   "outputs": [],
   "source": [
    "df = pd.read_csv(\"data/stock_sectors/feature_data.csv\")"
   ]
  },
  {
   "cell_type": "code",
   "execution_count": 6,
   "metadata": {},
   "outputs": [
    {
     "data": {
      "text/html": [
       "<div>\n",
       "<style scoped>\n",
       "    .dataframe tbody tr th:only-of-type {\n",
       "        vertical-align: middle;\n",
       "    }\n",
       "\n",
       "    .dataframe tbody tr th {\n",
       "        vertical-align: top;\n",
       "    }\n",
       "\n",
       "    .dataframe thead th {\n",
       "        text-align: right;\n",
       "    }\n",
       "</style>\n",
       "<table border=\"1\" class=\"dataframe\">\n",
       "  <thead>\n",
       "    <tr style=\"text-align: right;\">\n",
       "      <th></th>\n",
       "      <th>Unnamed: 0</th>\n",
       "      <th>Change__variance_larger_than_standard_deviation</th>\n",
       "      <th>Change__has_duplicate_max</th>\n",
       "      <th>Change__has_duplicate_min</th>\n",
       "      <th>Change__has_duplicate</th>\n",
       "      <th>Change__sum_values</th>\n",
       "      <th>Change__abs_energy</th>\n",
       "      <th>Change__mean_abs_change</th>\n",
       "      <th>Change__mean_change</th>\n",
       "      <th>Change__mean_second_derivative_central</th>\n",
       "      <th>...</th>\n",
       "      <th>Change__fourier_entropy__bins_10</th>\n",
       "      <th>Change__fourier_entropy__bins_100</th>\n",
       "      <th>Change__permutation_entropy__dimension_3__tau_1</th>\n",
       "      <th>Change__permutation_entropy__dimension_4__tau_1</th>\n",
       "      <th>Change__permutation_entropy__dimension_5__tau_1</th>\n",
       "      <th>Change__permutation_entropy__dimension_6__tau_1</th>\n",
       "      <th>Change__permutation_entropy__dimension_7__tau_1</th>\n",
       "      <th>Change__query_similarity_count__query_None__threshold_0.0</th>\n",
       "      <th>Change__mean_n_absolute_max__number_of_maxima_7</th>\n",
       "      <th>Sector</th>\n",
       "    </tr>\n",
       "  </thead>\n",
       "  <tbody>\n",
       "    <tr>\n",
       "      <th>0</th>\n",
       "      <td>A</td>\n",
       "      <td>0.0</td>\n",
       "      <td>0.0</td>\n",
       "      <td>0.0</td>\n",
       "      <td>0.0</td>\n",
       "      <td>237.491343</td>\n",
       "      <td>252.238261</td>\n",
       "      <td>0.089564</td>\n",
       "      <td>0.000551</td>\n",
       "      <td>-0.000162</td>\n",
       "      <td>...</td>\n",
       "      <td>0.971717</td>\n",
       "      <td>2.610491</td>\n",
       "      <td>1.732168</td>\n",
       "      <td>2.937143</td>\n",
       "      <td>4.119118</td>\n",
       "      <td>4.949371</td>\n",
       "      <td>5.294163</td>\n",
       "      <td>NaN</td>\n",
       "      <td>1.353611</td>\n",
       "      <td>Healthcare</td>\n",
       "    </tr>\n",
       "    <tr>\n",
       "      <th>1</th>\n",
       "      <td>AACI</td>\n",
       "      <td>0.0</td>\n",
       "      <td>0.0</td>\n",
       "      <td>1.0</td>\n",
       "      <td>1.0</td>\n",
       "      <td>26.340809</td>\n",
       "      <td>26.688917</td>\n",
       "      <td>0.005178</td>\n",
       "      <td>0.004495</td>\n",
       "      <td>0.000002</td>\n",
       "      <td>...</td>\n",
       "      <td>0.099760</td>\n",
       "      <td>0.250131</td>\n",
       "      <td>0.418784</td>\n",
       "      <td>0.583114</td>\n",
       "      <td>0.646688</td>\n",
       "      <td>0.655318</td>\n",
       "      <td>0.657778</td>\n",
       "      <td>NaN</td>\n",
       "      <td>1.027081</td>\n",
       "      <td>Finance</td>\n",
       "    </tr>\n",
       "    <tr>\n",
       "      <th>2</th>\n",
       "      <td>AACT</td>\n",
       "      <td>0.0</td>\n",
       "      <td>0.0</td>\n",
       "      <td>1.0</td>\n",
       "      <td>1.0</td>\n",
       "      <td>7.098699</td>\n",
       "      <td>7.198851</td>\n",
       "      <td>0.004530</td>\n",
       "      <td>0.004456</td>\n",
       "      <td>-0.000009</td>\n",
       "      <td>...</td>\n",
       "      <td>0.099760</td>\n",
       "      <td>0.099760</td>\n",
       "      <td>0.113480</td>\n",
       "      <td>0.142331</td>\n",
       "      <td>0.171379</td>\n",
       "      <td>0.172025</td>\n",
       "      <td>0.172677</td>\n",
       "      <td>NaN</td>\n",
       "      <td>1.014100</td>\n",
       "      <td>Finance</td>\n",
       "    </tr>\n",
       "    <tr>\n",
       "      <th>3</th>\n",
       "      <td>AADI</td>\n",
       "      <td>0.0</td>\n",
       "      <td>0.0</td>\n",
       "      <td>1.0</td>\n",
       "      <td>1.0</td>\n",
       "      <td>65.813925</td>\n",
       "      <td>70.317652</td>\n",
       "      <td>0.077365</td>\n",
       "      <td>0.004645</td>\n",
       "      <td>0.001504</td>\n",
       "      <td>...</td>\n",
       "      <td>0.187157</td>\n",
       "      <td>0.540212</td>\n",
       "      <td>0.935161</td>\n",
       "      <td>1.392436</td>\n",
       "      <td>1.733054</td>\n",
       "      <td>1.864353</td>\n",
       "      <td>1.902331</td>\n",
       "      <td>NaN</td>\n",
       "      <td>1.756573</td>\n",
       "      <td>Healthcare</td>\n",
       "    </tr>\n",
       "    <tr>\n",
       "      <th>4</th>\n",
       "      <td>AAMC</td>\n",
       "      <td>0.0</td>\n",
       "      <td>0.0</td>\n",
       "      <td>1.0</td>\n",
       "      <td>1.0</td>\n",
       "      <td>28.556344</td>\n",
       "      <td>52.619379</td>\n",
       "      <td>0.045621</td>\n",
       "      <td>0.003660</td>\n",
       "      <td>-0.000883</td>\n",
       "      <td>...</td>\n",
       "      <td>0.099760</td>\n",
       "      <td>0.250131</td>\n",
       "      <td>0.266938</td>\n",
       "      <td>0.354118</td>\n",
       "      <td>0.424417</td>\n",
       "      <td>0.495172</td>\n",
       "      <td>0.560143</td>\n",
       "      <td>NaN</td>\n",
       "      <td>2.344726</td>\n",
       "      <td>Finance</td>\n",
       "    </tr>\n",
       "  </tbody>\n",
       "</table>\n",
       "<p>5 rows × 779 columns</p>\n",
       "</div>"
      ],
      "text/plain": [
       "  Unnamed: 0  Change__variance_larger_than_standard_deviation  \\\n",
       "0          A                                              0.0   \n",
       "1       AACI                                              0.0   \n",
       "2       AACT                                              0.0   \n",
       "3       AADI                                              0.0   \n",
       "4       AAMC                                              0.0   \n",
       "\n",
       "   Change__has_duplicate_max  Change__has_duplicate_min  \\\n",
       "0                        0.0                        0.0   \n",
       "1                        0.0                        1.0   \n",
       "2                        0.0                        1.0   \n",
       "3                        0.0                        1.0   \n",
       "4                        0.0                        1.0   \n",
       "\n",
       "   Change__has_duplicate  Change__sum_values  Change__abs_energy  \\\n",
       "0                    0.0          237.491343          252.238261   \n",
       "1                    1.0           26.340809           26.688917   \n",
       "2                    1.0            7.098699            7.198851   \n",
       "3                    1.0           65.813925           70.317652   \n",
       "4                    1.0           28.556344           52.619379   \n",
       "\n",
       "   Change__mean_abs_change  Change__mean_change  \\\n",
       "0                 0.089564             0.000551   \n",
       "1                 0.005178             0.004495   \n",
       "2                 0.004530             0.004456   \n",
       "3                 0.077365             0.004645   \n",
       "4                 0.045621             0.003660   \n",
       "\n",
       "   Change__mean_second_derivative_central  ...  \\\n",
       "0                               -0.000162  ...   \n",
       "1                                0.000002  ...   \n",
       "2                               -0.000009  ...   \n",
       "3                                0.001504  ...   \n",
       "4                               -0.000883  ...   \n",
       "\n",
       "   Change__fourier_entropy__bins_10  Change__fourier_entropy__bins_100  \\\n",
       "0                          0.971717                           2.610491   \n",
       "1                          0.099760                           0.250131   \n",
       "2                          0.099760                           0.099760   \n",
       "3                          0.187157                           0.540212   \n",
       "4                          0.099760                           0.250131   \n",
       "\n",
       "   Change__permutation_entropy__dimension_3__tau_1  \\\n",
       "0                                         1.732168   \n",
       "1                                         0.418784   \n",
       "2                                         0.113480   \n",
       "3                                         0.935161   \n",
       "4                                         0.266938   \n",
       "\n",
       "   Change__permutation_entropy__dimension_4__tau_1  \\\n",
       "0                                         2.937143   \n",
       "1                                         0.583114   \n",
       "2                                         0.142331   \n",
       "3                                         1.392436   \n",
       "4                                         0.354118   \n",
       "\n",
       "   Change__permutation_entropy__dimension_5__tau_1  \\\n",
       "0                                         4.119118   \n",
       "1                                         0.646688   \n",
       "2                                         0.171379   \n",
       "3                                         1.733054   \n",
       "4                                         0.424417   \n",
       "\n",
       "   Change__permutation_entropy__dimension_6__tau_1  \\\n",
       "0                                         4.949371   \n",
       "1                                         0.655318   \n",
       "2                                         0.172025   \n",
       "3                                         1.864353   \n",
       "4                                         0.495172   \n",
       "\n",
       "   Change__permutation_entropy__dimension_7__tau_1  \\\n",
       "0                                         5.294163   \n",
       "1                                         0.657778   \n",
       "2                                         0.172677   \n",
       "3                                         1.902331   \n",
       "4                                         0.560143   \n",
       "\n",
       "   Change__query_similarity_count__query_None__threshold_0.0  \\\n",
       "0                                                NaN           \n",
       "1                                                NaN           \n",
       "2                                                NaN           \n",
       "3                                                NaN           \n",
       "4                                                NaN           \n",
       "\n",
       "   Change__mean_n_absolute_max__number_of_maxima_7      Sector  \n",
       "0                                         1.353611  Healthcare  \n",
       "1                                         1.027081     Finance  \n",
       "2                                         1.014100     Finance  \n",
       "3                                         1.756573  Healthcare  \n",
       "4                                         2.344726     Finance  \n",
       "\n",
       "[5 rows x 779 columns]"
      ]
     },
     "execution_count": 6,
     "metadata": {},
     "output_type": "execute_result"
    }
   ],
   "source": [
    "df.head()"
   ]
  },
  {
   "cell_type": "code",
   "execution_count": 7,
   "metadata": {},
   "outputs": [],
   "source": [
    "df.rename(columns={\"Unnamed: 0\": \"Symbol\"}, inplace=True)\n",
    "# Özel karakterleri alt çizgiyle değiştirme\n",
    "df.columns = df.columns.str.replace('[^a-zA-Z0-9_]', '_')"
   ]
  },
  {
   "cell_type": "code",
   "execution_count": 8,
   "metadata": {},
   "outputs": [
    {
     "data": {
      "text/plain": [
       "Change__query_similarity_count__query_None__threshold_0_0    3008\n",
       "Change__friedrich_coefficients__coeff_1__m_3__r_30           2083\n",
       "Change__max_langevin_fixed_point__m_3__r_30                  2083\n",
       "Change__friedrich_coefficients__coeff_0__m_3__r_30           2083\n",
       "Change__friedrich_coefficients__coeff_3__m_3__r_30           2083\n",
       "                                                             ... \n",
       "Change__fft_coefficient__attr__real___coeff_16                  0\n",
       "Change__fft_coefficient__attr__real___coeff_17                  0\n",
       "Change__fft_coefficient__attr__real___coeff_18                  0\n",
       "Change__fft_coefficient__attr__real___coeff_19                  0\n",
       "Sector                                                          0\n",
       "Length: 779, dtype: int64"
      ]
     },
     "execution_count": 8,
     "metadata": {},
     "output_type": "execute_result"
    }
   ],
   "source": [
    "df.isnull().sum().sort_values(ascending=False)"
   ]
  },
  {
   "cell_type": "markdown",
   "metadata": {},
   "source": [
    "Verisetinin yarısından fazlası boş olan feature'ları kullanmak yerine, bu feature'ları çıkartmak daha mantıklı olacaktır."
   ]
  },
  {
   "cell_type": "code",
   "execution_count": 9,
   "metadata": {},
   "outputs": [],
   "source": [
    "def drop_missing_features(df: pd.DataFrame, threshold: float = 0.5) -> pd.DataFrame:\n",
    "    df = df.copy()\n",
    "    missing_values = df.isnull().mean()\n",
    "    return df.drop(missing_values[missing_values > threshold].index, axis=1)"
   ]
  },
  {
   "cell_type": "code",
   "execution_count": 10,
   "metadata": {},
   "outputs": [],
   "source": [
    "df = drop_missing_features(df)"
   ]
  },
  {
   "cell_type": "markdown",
   "metadata": {},
   "source": [
    "`Görüldüğü gibi bu değerler çıkartıldı.`"
   ]
  },
  {
   "cell_type": "code",
   "execution_count": 11,
   "metadata": {},
   "outputs": [
    {
     "data": {
      "text/plain": [
       "Change__augmented_dickey_fuller__attr__pvalue___autolag__AIC_      39\n",
       "Change__augmented_dickey_fuller__attr__teststat___autolag__AIC_    39\n",
       "Change__partial_autocorrelation__lag_7                             35\n",
       "Change__autocorrelation__lag_2                                     35\n",
       "Change__autocorrelation__lag_8                                     35\n",
       "                                                                   ..\n",
       "Change__fft_coefficient__attr__real___coeff_14                      0\n",
       "Change__fft_coefficient__attr__real___coeff_15                      0\n",
       "Change__fft_coefficient__attr__real___coeff_16                      0\n",
       "Change__fft_coefficient__attr__real___coeff_17                      0\n",
       "Sector                                                              0\n",
       "Length: 773, dtype: int64"
      ]
     },
     "execution_count": 11,
     "metadata": {},
     "output_type": "execute_result"
    }
   ],
   "source": [
    "df.isnull().sum().sort_values(ascending=False)"
   ]
  },
  {
   "cell_type": "markdown",
   "metadata": {},
   "source": [
    "Şimdi, yukarıda yazdığımız sınıfı kullanarak örnek bir preprocessing pipeline kurup verilerimiz üzerinde deneyelim."
   ]
  },
  {
   "cell_type": "code",
   "execution_count": 117,
   "metadata": {},
   "outputs": [],
   "source": [
    "example_prep_exp = StockSectorsExperiment(scaler_name=\"RobustScaler\", imputer_name=\"DropImputer\")"
   ]
  },
  {
   "cell_type": "code",
   "execution_count": 118,
   "metadata": {},
   "outputs": [
    {
     "data": {
      "text/html": [
       "<style>#sk-container-id-16 {color: black;}#sk-container-id-16 pre{padding: 0;}#sk-container-id-16 div.sk-toggleable {background-color: white;}#sk-container-id-16 label.sk-toggleable__label {cursor: pointer;display: block;width: 100%;margin-bottom: 0;padding: 0.3em;box-sizing: border-box;text-align: center;}#sk-container-id-16 label.sk-toggleable__label-arrow:before {content: \"▸\";float: left;margin-right: 0.25em;color: #696969;}#sk-container-id-16 label.sk-toggleable__label-arrow:hover:before {color: black;}#sk-container-id-16 div.sk-estimator:hover label.sk-toggleable__label-arrow:before {color: black;}#sk-container-id-16 div.sk-toggleable__content {max-height: 0;max-width: 0;overflow: hidden;text-align: left;background-color: #f0f8ff;}#sk-container-id-16 div.sk-toggleable__content pre {margin: 0.2em;color: black;border-radius: 0.25em;background-color: #f0f8ff;}#sk-container-id-16 input.sk-toggleable__control:checked~div.sk-toggleable__content {max-height: 200px;max-width: 100%;overflow: auto;}#sk-container-id-16 input.sk-toggleable__control:checked~label.sk-toggleable__label-arrow:before {content: \"▾\";}#sk-container-id-16 div.sk-estimator input.sk-toggleable__control:checked~label.sk-toggleable__label {background-color: #d4ebff;}#sk-container-id-16 div.sk-label input.sk-toggleable__control:checked~label.sk-toggleable__label {background-color: #d4ebff;}#sk-container-id-16 input.sk-hidden--visually {border: 0;clip: rect(1px 1px 1px 1px);clip: rect(1px, 1px, 1px, 1px);height: 1px;margin: -1px;overflow: hidden;padding: 0;position: absolute;width: 1px;}#sk-container-id-16 div.sk-estimator {font-family: monospace;background-color: #f0f8ff;border: 1px dotted black;border-radius: 0.25em;box-sizing: border-box;margin-bottom: 0.5em;}#sk-container-id-16 div.sk-estimator:hover {background-color: #d4ebff;}#sk-container-id-16 div.sk-parallel-item::after {content: \"\";width: 100%;border-bottom: 1px solid gray;flex-grow: 1;}#sk-container-id-16 div.sk-label:hover label.sk-toggleable__label {background-color: #d4ebff;}#sk-container-id-16 div.sk-serial::before {content: \"\";position: absolute;border-left: 1px solid gray;box-sizing: border-box;top: 0;bottom: 0;left: 50%;z-index: 0;}#sk-container-id-16 div.sk-serial {display: flex;flex-direction: column;align-items: center;background-color: white;padding-right: 0.2em;padding-left: 0.2em;position: relative;}#sk-container-id-16 div.sk-item {position: relative;z-index: 1;}#sk-container-id-16 div.sk-parallel {display: flex;align-items: stretch;justify-content: center;background-color: white;position: relative;}#sk-container-id-16 div.sk-item::before, #sk-container-id-16 div.sk-parallel-item::before {content: \"\";position: absolute;border-left: 1px solid gray;box-sizing: border-box;top: 0;bottom: 0;left: 50%;z-index: -1;}#sk-container-id-16 div.sk-parallel-item {display: flex;flex-direction: column;z-index: 1;position: relative;background-color: white;}#sk-container-id-16 div.sk-parallel-item:first-child::after {align-self: flex-end;width: 50%;}#sk-container-id-16 div.sk-parallel-item:last-child::after {align-self: flex-start;width: 50%;}#sk-container-id-16 div.sk-parallel-item:only-child::after {width: 0;}#sk-container-id-16 div.sk-dashed-wrapped {border: 1px dashed gray;margin: 0 0.4em 0.5em 0.4em;box-sizing: border-box;padding-bottom: 0.4em;background-color: white;}#sk-container-id-16 div.sk-label label {font-family: monospace;font-weight: bold;display: inline-block;line-height: 1.2em;}#sk-container-id-16 div.sk-label-container {text-align: center;}#sk-container-id-16 div.sk-container {/* jupyter's `normalize.less` sets `[hidden] { display: none; }` but bootstrap.min.css set `[hidden] { display: none !important; }` so we also need the `!important` here to be able to override the default hidden behavior on the sphinx rendered scikit-learn.org. See: https://github.com/scikit-learn/scikit-learn/issues/21755 */display: inline-block !important;position: relative;}#sk-container-id-16 div.sk-text-repr-fallback {display: none;}</style><div id=\"sk-container-id-16\" class=\"sk-top-container\"><div class=\"sk-text-repr-fallback\"><pre>Pipeline(steps=[(&#x27;DropImputer_Imputer&#x27;, DropMissingData()),\n",
       "                (&#x27;RobustScaler_Scaler&#x27;, RobustScaler())])</pre><b>In a Jupyter environment, please rerun this cell to show the HTML representation or trust the notebook. <br />On GitHub, the HTML representation is unable to render, please try loading this page with nbviewer.org.</b></div><div class=\"sk-container\" hidden><div class=\"sk-item sk-dashed-wrapped\"><div class=\"sk-label-container\"><div class=\"sk-label sk-toggleable\"><input class=\"sk-toggleable__control sk-hidden--visually\" id=\"sk-estimator-id-32\" type=\"checkbox\" ><label for=\"sk-estimator-id-32\" class=\"sk-toggleable__label sk-toggleable__label-arrow\">Pipeline</label><div class=\"sk-toggleable__content\"><pre>Pipeline(steps=[(&#x27;DropImputer_Imputer&#x27;, DropMissingData()),\n",
       "                (&#x27;RobustScaler_Scaler&#x27;, RobustScaler())])</pre></div></div></div><div class=\"sk-serial\"><div class=\"sk-item\"><div class=\"sk-estimator sk-toggleable\"><input class=\"sk-toggleable__control sk-hidden--visually\" id=\"sk-estimator-id-33\" type=\"checkbox\" ><label for=\"sk-estimator-id-33\" class=\"sk-toggleable__label sk-toggleable__label-arrow\">DropMissingData</label><div class=\"sk-toggleable__content\"><pre>DropMissingData()</pre></div></div></div><div class=\"sk-item\"><div class=\"sk-estimator sk-toggleable\"><input class=\"sk-toggleable__control sk-hidden--visually\" id=\"sk-estimator-id-34\" type=\"checkbox\" ><label for=\"sk-estimator-id-34\" class=\"sk-toggleable__label sk-toggleable__label-arrow\">RobustScaler</label><div class=\"sk-toggleable__content\"><pre>RobustScaler()</pre></div></div></div></div></div></div></div>"
      ],
      "text/plain": [
       "Pipeline(steps=[('DropImputer_Imputer', DropMissingData()),\n",
       "                ('RobustScaler_Scaler', RobustScaler())])"
      ]
     },
     "execution_count": 118,
     "metadata": {},
     "output_type": "execute_result"
    }
   ],
   "source": [
    "example_prep_exp.pipeline"
   ]
  },
  {
   "cell_type": "code",
   "execution_count": 119,
   "metadata": {},
   "outputs": [],
   "source": [
    "X = df.drop(columns=[example_prep_exp.target, \"Symbol\"])\n",
    "y = df[example_prep_exp.target]"
   ]
  },
  {
   "cell_type": "code",
   "execution_count": 120,
   "metadata": {},
   "outputs": [],
   "source": [
    "y = y.map(example_prep_exp.target_encoder)"
   ]
  },
  {
   "cell_type": "code",
   "execution_count": 121,
   "metadata": {},
   "outputs": [],
   "source": [
    "from sklearn.model_selection import train_test_split\n",
    "X_train, X_test, y_train, y_test = train_test_split(X, y, test_size=0.2, random_state=42)"
   ]
  },
  {
   "cell_type": "code",
   "execution_count": 122,
   "metadata": {},
   "outputs": [],
   "source": [
    "X_train_prepared = example_prep_exp.pipeline.fit_transform(X_train)\n",
    "X_test_prepared = example_prep_exp.pipeline.transform(X_test)"
   ]
  },
  {
   "cell_type": "code",
   "execution_count": 123,
   "metadata": {},
   "outputs": [],
   "source": [
    "y_train_prepared = y_train[y_train.index.isin(X_train_prepared.index)]\n",
    "y_test_prepared = y_test[y_test.index.isin(X_test_prepared.index)]"
   ]
  },
  {
   "cell_type": "code",
   "execution_count": 125,
   "metadata": {},
   "outputs": [],
   "source": [
    "model = LGBMClassifier()"
   ]
  },
  {
   "cell_type": "code",
   "execution_count": 126,
   "metadata": {},
   "outputs": [
    {
     "data": {
      "text/html": [
       "<style>#sk-container-id-17 {color: black;}#sk-container-id-17 pre{padding: 0;}#sk-container-id-17 div.sk-toggleable {background-color: white;}#sk-container-id-17 label.sk-toggleable__label {cursor: pointer;display: block;width: 100%;margin-bottom: 0;padding: 0.3em;box-sizing: border-box;text-align: center;}#sk-container-id-17 label.sk-toggleable__label-arrow:before {content: \"▸\";float: left;margin-right: 0.25em;color: #696969;}#sk-container-id-17 label.sk-toggleable__label-arrow:hover:before {color: black;}#sk-container-id-17 div.sk-estimator:hover label.sk-toggleable__label-arrow:before {color: black;}#sk-container-id-17 div.sk-toggleable__content {max-height: 0;max-width: 0;overflow: hidden;text-align: left;background-color: #f0f8ff;}#sk-container-id-17 div.sk-toggleable__content pre {margin: 0.2em;color: black;border-radius: 0.25em;background-color: #f0f8ff;}#sk-container-id-17 input.sk-toggleable__control:checked~div.sk-toggleable__content {max-height: 200px;max-width: 100%;overflow: auto;}#sk-container-id-17 input.sk-toggleable__control:checked~label.sk-toggleable__label-arrow:before {content: \"▾\";}#sk-container-id-17 div.sk-estimator input.sk-toggleable__control:checked~label.sk-toggleable__label {background-color: #d4ebff;}#sk-container-id-17 div.sk-label input.sk-toggleable__control:checked~label.sk-toggleable__label {background-color: #d4ebff;}#sk-container-id-17 input.sk-hidden--visually {border: 0;clip: rect(1px 1px 1px 1px);clip: rect(1px, 1px, 1px, 1px);height: 1px;margin: -1px;overflow: hidden;padding: 0;position: absolute;width: 1px;}#sk-container-id-17 div.sk-estimator {font-family: monospace;background-color: #f0f8ff;border: 1px dotted black;border-radius: 0.25em;box-sizing: border-box;margin-bottom: 0.5em;}#sk-container-id-17 div.sk-estimator:hover {background-color: #d4ebff;}#sk-container-id-17 div.sk-parallel-item::after {content: \"\";width: 100%;border-bottom: 1px solid gray;flex-grow: 1;}#sk-container-id-17 div.sk-label:hover label.sk-toggleable__label {background-color: #d4ebff;}#sk-container-id-17 div.sk-serial::before {content: \"\";position: absolute;border-left: 1px solid gray;box-sizing: border-box;top: 0;bottom: 0;left: 50%;z-index: 0;}#sk-container-id-17 div.sk-serial {display: flex;flex-direction: column;align-items: center;background-color: white;padding-right: 0.2em;padding-left: 0.2em;position: relative;}#sk-container-id-17 div.sk-item {position: relative;z-index: 1;}#sk-container-id-17 div.sk-parallel {display: flex;align-items: stretch;justify-content: center;background-color: white;position: relative;}#sk-container-id-17 div.sk-item::before, #sk-container-id-17 div.sk-parallel-item::before {content: \"\";position: absolute;border-left: 1px solid gray;box-sizing: border-box;top: 0;bottom: 0;left: 50%;z-index: -1;}#sk-container-id-17 div.sk-parallel-item {display: flex;flex-direction: column;z-index: 1;position: relative;background-color: white;}#sk-container-id-17 div.sk-parallel-item:first-child::after {align-self: flex-end;width: 50%;}#sk-container-id-17 div.sk-parallel-item:last-child::after {align-self: flex-start;width: 50%;}#sk-container-id-17 div.sk-parallel-item:only-child::after {width: 0;}#sk-container-id-17 div.sk-dashed-wrapped {border: 1px dashed gray;margin: 0 0.4em 0.5em 0.4em;box-sizing: border-box;padding-bottom: 0.4em;background-color: white;}#sk-container-id-17 div.sk-label label {font-family: monospace;font-weight: bold;display: inline-block;line-height: 1.2em;}#sk-container-id-17 div.sk-label-container {text-align: center;}#sk-container-id-17 div.sk-container {/* jupyter's `normalize.less` sets `[hidden] { display: none; }` but bootstrap.min.css set `[hidden] { display: none !important; }` so we also need the `!important` here to be able to override the default hidden behavior on the sphinx rendered scikit-learn.org. See: https://github.com/scikit-learn/scikit-learn/issues/21755 */display: inline-block !important;position: relative;}#sk-container-id-17 div.sk-text-repr-fallback {display: none;}</style><div id=\"sk-container-id-17\" class=\"sk-top-container\"><div class=\"sk-text-repr-fallback\"><pre>LGBMClassifier()</pre><b>In a Jupyter environment, please rerun this cell to show the HTML representation or trust the notebook. <br />On GitHub, the HTML representation is unable to render, please try loading this page with nbviewer.org.</b></div><div class=\"sk-container\" hidden><div class=\"sk-item\"><div class=\"sk-estimator sk-toggleable\"><input class=\"sk-toggleable__control sk-hidden--visually\" id=\"sk-estimator-id-35\" type=\"checkbox\" checked><label for=\"sk-estimator-id-35\" class=\"sk-toggleable__label sk-toggleable__label-arrow\">LGBMClassifier</label><div class=\"sk-toggleable__content\"><pre>LGBMClassifier()</pre></div></div></div></div></div>"
      ],
      "text/plain": [
       "LGBMClassifier()"
      ]
     },
     "execution_count": 126,
     "metadata": {},
     "output_type": "execute_result"
    }
   ],
   "source": [
    "model.fit(X_train_prepared, y_train_prepared)"
   ]
  },
  {
   "cell_type": "code",
   "execution_count": 135,
   "metadata": {},
   "outputs": [],
   "source": [
    "pred = model.predict(X_test_prepared)\n",
    "pred_proba = model.predict_proba(X_test_prepared)"
   ]
  },
  {
   "cell_type": "code",
   "execution_count": 12,
   "metadata": {},
   "outputs": [],
   "source": [
    "def classification_metrics(y_true, y_pred, y_pred_proba):\n",
    "    return {\n",
    "        \"accuracy\": accuracy_score(y_true, y_pred),\n",
    "        \"f1\": f1_score(y_true, y_pred, average=\"macro\"),\n",
    "        \"precision\": precision_score(y_true, y_pred, average=\"macro\"),\n",
    "        \"recall\": recall_score(y_true, y_pred, average=\"macro\"),\n",
    "        \"roc_auc\": roc_auc_score(y_true, y_pred_proba, average=\"macro\", multi_class=\"ovr\")\n",
    "    }"
   ]
  },
  {
   "cell_type": "code",
   "execution_count": 142,
   "metadata": {},
   "outputs": [],
   "source": [
    "train_pred = model.predict(X_train_prepared)\n",
    "train_pred_proba = model.predict_proba(X_train_prepared)"
   ]
  },
  {
   "cell_type": "code",
   "execution_count": 147,
   "metadata": {},
   "outputs": [
    {
     "data": {
      "text/plain": [
       "{'accuracy': 1.0, 'f1': 1.0, 'precision': 1.0, 'recall': 1.0, 'roc_auc': 1.0}"
      ]
     },
     "execution_count": 147,
     "metadata": {},
     "output_type": "execute_result"
    }
   ],
   "source": [
    "classification_metrics(y_train_prepared, train_pred, train_pred_proba)"
   ]
  },
  {
   "cell_type": "code",
   "execution_count": 148,
   "metadata": {},
   "outputs": [
    {
     "data": {
      "text/plain": [
       "{'accuracy': 0.7195945945945946,\n",
       " 'f1': 0.693521260412687,\n",
       " 'precision': 0.7131015589618775,\n",
       " 'recall': 0.6924765091570672,\n",
       " 'roc_auc': 0.8709498291760358}"
      ]
     },
     "execution_count": 148,
     "metadata": {},
     "output_type": "execute_result"
    }
   ],
   "source": [
    "classification_metrics(y_test_prepared, pred, pred_proba)"
   ]
  },
  {
   "cell_type": "markdown",
   "metadata": {},
   "source": [
    "Bu şekilde basit bir örnek yapmış olduk."
   ]
  },
  {
   "cell_type": "markdown",
   "metadata": {},
   "source": [
    "## Model Seçimi ve Eğitimi"
   ]
  },
  {
   "cell_type": "code",
   "execution_count": 13,
   "metadata": {},
   "outputs": [],
   "source": [
    "models = {\n",
    "    \"Logistic Regression\": LogisticRegression(),\n",
    "    \"SVM\": SVC(),\n",
    "    \"LightGBM\": LGBMClassifier(),\n",
    "    \"Random Forest\": RandomForestClassifier(),\n",
    "    \"XGBoost\": XGBClassifier()\n",
    "}\n",
    "metrics = {\n",
    "    \"accuracy\": accuracy_score,\n",
    "    \"f1\": f1_score,\n",
    "    \"precision\": precision_score,\n",
    "    \"recall\": recall_score,\n",
    "    \"roc_auc\": roc_auc_score\n",
    "}\n",
    "scaler_names = [None, \"StandardScaler\", \"MinMaxScaler\", \"RobustScaler\"]\n",
    "imputer_names = [\"DropImputer\", \"MeanImputer\", \"MedianImputer\"]\n",
    "target_encoder = {\n",
    "    \"Finance\": 0,\n",
    "    \"Technology\": 1,\n",
    "    \"Healthcare\": 2\n",
    "}"
   ]
  },
  {
   "cell_type": "code",
   "execution_count": 14,
   "metadata": {},
   "outputs": [],
   "source": [
    "def classification_metrics(y_true, y_pred):\n",
    "    return {\n",
    "        \"accuracy\": accuracy_score(y_true, y_pred),\n",
    "        \"f1\": f1_score(y_true, y_pred, average=\"macro\"),\n",
    "        \"precision\": precision_score(y_true, y_pred, average=\"macro\"),\n",
    "        \"recall\": recall_score(y_true, y_pred, average=\"macro\")\n",
    "    }"
   ]
  },
  {
   "cell_type": "markdown",
   "metadata": {},
   "source": [
    "Preprocess pipeline üzerinde farklı işlemlere göre en iyi modeli seçmek için bir fonksiyon yazalım."
   ]
  },
  {
   "cell_type": "code",
   "execution_count": 15,
   "metadata": {},
   "outputs": [],
   "source": [
    "def cv_score(model, X, y, pipeline, cv=5):\n",
    "    kf = KFold(n_splits=cv)\n",
    "    scores = []\n",
    "    for train_index, test_index in kf.split(X):\n",
    "        X_train, X_test = X.iloc[train_index], X.iloc[test_index]\n",
    "        y_train, y_test = y.iloc[train_index], y.iloc[test_index]\n",
    "        X_train_prepared = pipeline.fit_transform(X_train)\n",
    "        X_test_prepared = pipeline.transform(X_test)\n",
    "        y_train_prepared = y_train[y_train.index.isin(X_train_prepared.index)]\n",
    "        y_test_prepared = y_test[y_test.index.isin(X_test_prepared.index)]\n",
    "        if model.__class__.__name__ == \"CatBoostClassifier\":\n",
    "            model.fit(X_train_prepared, y_train_prepared, verbose=False)\n",
    "        else:\n",
    "            model.fit(X_train_prepared, y_train_prepared)\n",
    "        pred = model.predict(X_test_prepared)\n",
    "        score = classification_metrics(y_test_prepared, pred)\n",
    "        scores.append(score)\n",
    "    return pd.DataFrame(scores).mean()"
   ]
  },
  {
   "cell_type": "code",
   "execution_count": 16,
   "metadata": {},
   "outputs": [],
   "source": [
    "def run_experiment(models, scaler_names, imputer_names, X, y, cv=5):\n",
    "    result_df = pd.DataFrame(columns = [\n",
    "        \"Scaler Name\", \"Imputer Name\", \"Model Name\", \"Accuracy\", \"F1\", \"Precision\", \"Recall\"\n",
    "    ])\n",
    "    for model_name, model in tqdm(models.items(), desc=\"Model\"):\n",
    "        for scaler_name in scaler_names:\n",
    "            for imputer_name in imputer_names:\n",
    "                exp = StockSectorsExperiment(scaler_name=scaler_name, imputer_name=imputer_name)\n",
    "                result = cv_score(model, X, y, exp.pipeline, cv=cv)\n",
    "                result_df = result_df.append({\n",
    "                    \"Scaler Name\": scaler_name,\n",
    "                    \"Imputer Name\": imputer_name,\n",
    "                    \"Model Name\": model_name,\n",
    "                    \"Accuracy\": result[\"accuracy\"],\n",
    "                    \"F1\": result[\"f1\"],\n",
    "                    \"Precision\": result[\"precision\"],\n",
    "                    \"Recall\": result[\"recall\"]\n",
    "                }, ignore_index=True)\n",
    "    return result_df"
   ]
  },
  {
   "cell_type": "code",
   "execution_count": null,
   "metadata": {},
   "outputs": [],
   "source": [
    "# Yarım saat sürüyor yanlışlıkla tekrardan çalıştırdım :(\n",
    "X = df.drop(columns=[\"Sector\", \"Symbol\"])\n",
    "y = df[\"Sector\"]\n",
    "y = y.map(target_encoder)\n",
    "result_df = run_experiment(models, scaler_names, imputer_names, X, y, cv=5)"
   ]
  },
  {
   "cell_type": "markdown",
   "metadata": {},
   "source": [
    "`result_df` adında bir dataframe oluşturuldu. Model ve preprocessing pipeline'ı üzerinde farklı işlemler yapılarak oluşturulan bu df üzerinde modelin başarısını gözlemleyebiliriz."
   ]
  },
  {
   "cell_type": "code",
   "execution_count": 242,
   "metadata": {},
   "outputs": [
    {
     "data": {
      "text/html": [
       "<div>\n",
       "<style scoped>\n",
       "    .dataframe tbody tr th:only-of-type {\n",
       "        vertical-align: middle;\n",
       "    }\n",
       "\n",
       "    .dataframe tbody tr th {\n",
       "        vertical-align: top;\n",
       "    }\n",
       "\n",
       "    .dataframe thead th {\n",
       "        text-align: right;\n",
       "    }\n",
       "</style>\n",
       "<table border=\"1\" class=\"dataframe\">\n",
       "  <thead>\n",
       "    <tr style=\"text-align: right;\">\n",
       "      <th></th>\n",
       "      <th>Scaler Name</th>\n",
       "      <th>Imputer Name</th>\n",
       "      <th>Model Name</th>\n",
       "      <th>Accuracy</th>\n",
       "      <th>F1</th>\n",
       "      <th>Precision</th>\n",
       "      <th>Recall</th>\n",
       "    </tr>\n",
       "  </thead>\n",
       "  <tbody>\n",
       "    <tr>\n",
       "      <th>0</th>\n",
       "      <td>None</td>\n",
       "      <td>DropImputer</td>\n",
       "      <td>Logistic Regression</td>\n",
       "      <td>0.610001</td>\n",
       "      <td>0.582248</td>\n",
       "      <td>0.591952</td>\n",
       "      <td>0.585135</td>\n",
       "    </tr>\n",
       "    <tr>\n",
       "      <th>1</th>\n",
       "      <td>None</td>\n",
       "      <td>MeanImputer</td>\n",
       "      <td>Logistic Regression</td>\n",
       "      <td>0.600059</td>\n",
       "      <td>0.572677</td>\n",
       "      <td>0.579380</td>\n",
       "      <td>0.576106</td>\n",
       "    </tr>\n",
       "    <tr>\n",
       "      <th>2</th>\n",
       "      <td>None</td>\n",
       "      <td>MedianImputer</td>\n",
       "      <td>Logistic Regression</td>\n",
       "      <td>0.598725</td>\n",
       "      <td>0.568146</td>\n",
       "      <td>0.583696</td>\n",
       "      <td>0.574211</td>\n",
       "    </tr>\n",
       "    <tr>\n",
       "      <th>3</th>\n",
       "      <td>StandardScaler</td>\n",
       "      <td>DropImputer</td>\n",
       "      <td>Logistic Regression</td>\n",
       "      <td>0.684079</td>\n",
       "      <td>0.667855</td>\n",
       "      <td>0.669963</td>\n",
       "      <td>0.668187</td>\n",
       "    </tr>\n",
       "    <tr>\n",
       "      <th>4</th>\n",
       "      <td>StandardScaler</td>\n",
       "      <td>MeanImputer</td>\n",
       "      <td>Logistic Regression</td>\n",
       "      <td>0.682178</td>\n",
       "      <td>0.665087</td>\n",
       "      <td>0.666901</td>\n",
       "      <td>0.665979</td>\n",
       "    </tr>\n",
       "  </tbody>\n",
       "</table>\n",
       "</div>"
      ],
      "text/plain": [
       "      Scaler Name   Imputer Name           Model Name  Accuracy        F1  \\\n",
       "0            None    DropImputer  Logistic Regression  0.610001  0.582248   \n",
       "1            None    MeanImputer  Logistic Regression  0.600059  0.572677   \n",
       "2            None  MedianImputer  Logistic Regression  0.598725  0.568146   \n",
       "3  StandardScaler    DropImputer  Logistic Regression  0.684079  0.667855   \n",
       "4  StandardScaler    MeanImputer  Logistic Regression  0.682178  0.665087   \n",
       "\n",
       "   Precision    Recall  \n",
       "0   0.591952  0.585135  \n",
       "1   0.579380  0.576106  \n",
       "2   0.583696  0.574211  \n",
       "3   0.669963  0.668187  \n",
       "4   0.666901  0.665979  "
      ]
     },
     "execution_count": 242,
     "metadata": {},
     "output_type": "execute_result"
    }
   ],
   "source": [
    "result_df.head()"
   ]
  },
  {
   "cell_type": "markdown",
   "metadata": {},
   "source": [
    "`f1` score göre en iyi 5 kombinasyona bakalım."
   ]
  },
  {
   "cell_type": "code",
   "execution_count": 247,
   "metadata": {},
   "outputs": [
    {
     "data": {
      "text/html": [
       "<div>\n",
       "<style scoped>\n",
       "    .dataframe tbody tr th:only-of-type {\n",
       "        vertical-align: middle;\n",
       "    }\n",
       "\n",
       "    .dataframe tbody tr th {\n",
       "        vertical-align: top;\n",
       "    }\n",
       "\n",
       "    .dataframe thead th {\n",
       "        text-align: right;\n",
       "    }\n",
       "</style>\n",
       "<table border=\"1\" class=\"dataframe\">\n",
       "  <thead>\n",
       "    <tr style=\"text-align: right;\">\n",
       "      <th></th>\n",
       "      <th>Scaler Name</th>\n",
       "      <th>Imputer Name</th>\n",
       "      <th>Model Name</th>\n",
       "      <th>Accuracy</th>\n",
       "      <th>F1</th>\n",
       "      <th>Precision</th>\n",
       "      <th>Recall</th>\n",
       "    </tr>\n",
       "  </thead>\n",
       "  <tbody>\n",
       "    <tr>\n",
       "      <th>48</th>\n",
       "      <td>None</td>\n",
       "      <td>DropImputer</td>\n",
       "      <td>XGBoost</td>\n",
       "      <td>0.744695</td>\n",
       "      <td>0.722343</td>\n",
       "      <td>0.739380</td>\n",
       "      <td>0.719318</td>\n",
       "    </tr>\n",
       "    <tr>\n",
       "      <th>51</th>\n",
       "      <td>StandardScaler</td>\n",
       "      <td>DropImputer</td>\n",
       "      <td>XGBoost</td>\n",
       "      <td>0.742025</td>\n",
       "      <td>0.721136</td>\n",
       "      <td>0.736517</td>\n",
       "      <td>0.718347</td>\n",
       "    </tr>\n",
       "    <tr>\n",
       "      <th>30</th>\n",
       "      <td>MinMaxScaler</td>\n",
       "      <td>DropImputer</td>\n",
       "      <td>LightGBM</td>\n",
       "      <td>0.739322</td>\n",
       "      <td>0.717884</td>\n",
       "      <td>0.733976</td>\n",
       "      <td>0.714628</td>\n",
       "    </tr>\n",
       "    <tr>\n",
       "      <th>24</th>\n",
       "      <td>None</td>\n",
       "      <td>DropImputer</td>\n",
       "      <td>LightGBM</td>\n",
       "      <td>0.737994</td>\n",
       "      <td>0.716168</td>\n",
       "      <td>0.732181</td>\n",
       "      <td>0.713379</td>\n",
       "    </tr>\n",
       "    <tr>\n",
       "      <th>57</th>\n",
       "      <td>RobustScaler</td>\n",
       "      <td>DropImputer</td>\n",
       "      <td>XGBoost</td>\n",
       "      <td>0.736296</td>\n",
       "      <td>0.714938</td>\n",
       "      <td>0.729868</td>\n",
       "      <td>0.712524</td>\n",
       "    </tr>\n",
       "  </tbody>\n",
       "</table>\n",
       "</div>"
      ],
      "text/plain": [
       "       Scaler Name Imputer Name Model Name  Accuracy        F1  Precision  \\\n",
       "48            None  DropImputer    XGBoost  0.744695  0.722343   0.739380   \n",
       "51  StandardScaler  DropImputer    XGBoost  0.742025  0.721136   0.736517   \n",
       "30    MinMaxScaler  DropImputer   LightGBM  0.739322  0.717884   0.733976   \n",
       "24            None  DropImputer   LightGBM  0.737994  0.716168   0.732181   \n",
       "57    RobustScaler  DropImputer    XGBoost  0.736296  0.714938   0.729868   \n",
       "\n",
       "      Recall  \n",
       "48  0.719318  \n",
       "51  0.718347  \n",
       "30  0.714628  \n",
       "24  0.713379  \n",
       "57  0.712524  "
      ]
     },
     "execution_count": 247,
     "metadata": {},
     "output_type": "execute_result"
    }
   ],
   "source": [
    "result_df.sort_values(\"F1\", ascending=False).head(5)"
   ]
  },
  {
   "cell_type": "markdown",
   "metadata": {},
   "source": [
    "Bu sonuçlara göre yoluma `XGBoost` model ile devam etmek istiyorum. Feature Selection işlemlerini uyguladıktan sonra herhangi bir gelişme göremezsem `LightGBM` modeli de kullanmayı düşünüyorum."
   ]
  },
  {
   "cell_type": "markdown",
   "metadata": {},
   "source": [
    "## Feature Selection"
   ]
  },
  {
   "cell_type": "code",
   "execution_count": 18,
   "metadata": {},
   "outputs": [],
   "source": [
    "exp = StockSectorsExperiment(scaler_name=None, imputer_name=\"DropImputer\")\n",
    "model = XGBClassifier()\n",
    "X = df.drop(columns=[\"Sector\", \"Symbol\"])\n",
    "y = df[\"Sector\"]\n",
    "y = y.map(target_encoder)"
   ]
  },
  {
   "cell_type": "code",
   "execution_count": 19,
   "metadata": {},
   "outputs": [],
   "source": [
    "from sklearn.feature_selection import SelectKBest, f_classif, SelectFromModel, SequentialFeatureSelector, RFE"
   ]
  },
  {
   "cell_type": "code",
   "execution_count": 20,
   "metadata": {},
   "outputs": [],
   "source": [
    "X_pipelined = exp.pipeline.fit_transform(X)\n",
    "y_pipelined = y[y.index.isin(X_pipelined.index)]"
   ]
  },
  {
   "cell_type": "markdown",
   "metadata": {},
   "source": [
    "`SelectKBest` örneği ile feature selection işlemlerini uygulayalım."
   ]
  },
  {
   "cell_type": "code",
   "execution_count": 21,
   "metadata": {},
   "outputs": [],
   "source": [
    "selector = SelectKBest(score_func=f_classif, k=250)\n",
    "X_selected = selector.fit_transform(X_pipelined, y_pipelined)"
   ]
  },
  {
   "cell_type": "code",
   "execution_count": 22,
   "metadata": {},
   "outputs": [
    {
     "data": {
      "text/plain": [
       "accuracy     0.725147\n",
       "f1           0.705664\n",
       "precision    0.715757\n",
       "recall       0.703784\n",
       "dtype: float64"
      ]
     },
     "execution_count": 22,
     "metadata": {},
     "output_type": "execute_result"
    }
   ],
   "source": [
    "cv_score(model, X_selected, y_pipelined, exp.pipeline, cv=5)"
   ]
  },
  {
   "cell_type": "markdown",
   "metadata": {},
   "source": [
    "`SelectFromModel` örneği ile feature selection işlemlerini uygulayalım."
   ]
  },
  {
   "cell_type": "code",
   "execution_count": 23,
   "metadata": {},
   "outputs": [],
   "source": [
    "selector = SelectFromModel(model)"
   ]
  },
  {
   "cell_type": "code",
   "execution_count": 24,
   "metadata": {},
   "outputs": [],
   "source": [
    "X_selected = selector.fit_transform(X_pipelined, y_pipelined)"
   ]
  },
  {
   "cell_type": "code",
   "execution_count": 25,
   "metadata": {},
   "outputs": [
    {
     "data": {
      "text/plain": [
       "(2969, 212)"
      ]
     },
     "execution_count": 25,
     "metadata": {},
     "output_type": "execute_result"
    }
   ],
   "source": [
    "X_selected.shape"
   ]
  },
  {
   "cell_type": "markdown",
   "metadata": {},
   "source": [
    "`SelectFromModel` yöntemi 212 feature seçmiş. Bu feature'ları kullanarak modelimizi eğitelim."
   ]
  },
  {
   "cell_type": "code",
   "execution_count": 26,
   "metadata": {},
   "outputs": [
    {
     "data": {
      "text/plain": [
       "accuracy     0.731217\n",
       "f1           0.710988\n",
       "precision    0.722891\n",
       "recall       0.708051\n",
       "dtype: float64"
      ]
     },
     "execution_count": 26,
     "metadata": {},
     "output_type": "execute_result"
    }
   ],
   "source": [
    "cv_score(model, X_selected, y_pipelined, exp.pipeline, cv=5)"
   ]
  },
  {
   "cell_type": "markdown",
   "metadata": {},
   "source": [
    "Sonuçlar, hiç feature selection işlemi yapmadığımız sonuçlara göre az bir farkla daha düşük çalışıyor. Train süremiz oldukça azalıyor. Bu durumda, feature selection işlemlerini uygulamak daha mantıklı olabilir. "
   ]
  },
  {
   "cell_type": "markdown",
   "metadata": {},
   "source": [
    "`SequentialFeatureSelector` ve `RFE` uzun sürdüğü için kullanmayacağım."
   ]
  },
  {
   "cell_type": "markdown",
   "metadata": {},
   "source": [
    "## Hyperparameter Tuning"
   ]
  },
  {
   "cell_type": "code",
   "execution_count": 27,
   "metadata": {},
   "outputs": [],
   "source": [
    "import optuna"
   ]
  },
  {
   "cell_type": "code",
   "execution_count": 30,
   "metadata": {},
   "outputs": [],
   "source": [
    "def objective(trial):\n",
    "    params = {\n",
    "        \"objective\": trial.suggest_categorical(\"objective\", [\"binary:logistic\", \"multi:softmax\", \"multi:softprob\"]),\n",
    "        \"n_estimators\": trial.suggest_int(\"n_estimators\", 10, 300),\n",
    "        \"max_depth\": trial.suggest_int(\"max_depth\", 1, 11),\n",
    "        \"learning_rate\": trial.suggest_float(\"learning_rate\", 0.0000001, 0.5),\n",
    "        \"subsample\": trial.suggest_float(\"subsample\", 0.1, 1.0),\n",
    "        \"min_child_weight\": trial.suggest_int(\"min_child_weight\", 1, 5),\n",
    "        \"colsample_bytree\": trial.suggest_float(\"colsample_bytree\", 0.1, 1.0),\n",
    "        \"reg_alpha\": trial.suggest_float(\"reg_alpha\", 0.0000000001, 10),\n",
    "        \"reg_lambda\": trial.suggest_float(\"reg_lambda\", 0.0000000001, 10)\n",
    "    }\n",
    "    model = XGBClassifier(**params)\n",
    "    return cv_score(model, X_selected, y_pipelined, exp.pipeline, cv=5)[\"f1\"]"
   ]
  },
  {
   "cell_type": "code",
   "execution_count": 31,
   "metadata": {},
   "outputs": [
    {
     "name": "stderr",
     "output_type": "stream",
     "text": [
      "\u001b[32m[I 2024-03-17 17:42:40,698]\u001b[0m A new study created in memory with name: no-name-547dd010-8404-4d8a-831b-86fb27a0639e\u001b[0m\n"
     ]
    }
   ],
   "source": [
    "trial = optuna.create_study(direction=\"maximize\")"
   ]
  },
  {
   "cell_type": "code",
   "execution_count": 32,
   "metadata": {},
   "outputs": [
    {
     "name": "stderr",
     "output_type": "stream",
     "text": [
      "\u001b[32m[I 2024-03-17 17:42:48,055]\u001b[0m Trial 2 finished with value: 0.5658414432153802 and parameters: {'objective': 'multi:softmax', 'n_estimators': 27, 'max_depth': 1, 'learning_rate': 0.13263475454185059, 'subsample': 0.6168182210213394, 'min_child_weight': 2, 'colsample_bytree': 0.3779647847135491, 'reg_alpha': 6.353290625060924, 'reg_lambda': 8.276355547090093}. Best is trial 2 with value: 0.5658414432153802.\u001b[0m\n",
      "\u001b[32m[I 2024-03-17 17:42:57,819]\u001b[0m Trial 11 finished with value: 0.6638914272070964 and parameters: {'objective': 'binary:logistic', 'n_estimators': 12, 'max_depth': 8, 'learning_rate': 0.18167629832624815, 'subsample': 0.6174953692473416, 'min_child_weight': 3, 'colsample_bytree': 0.5542204498188105, 'reg_alpha': 5.046905865497885, 'reg_lambda': 6.945894864936721}. Best is trial 11 with value: 0.6638914272070964.\u001b[0m\n",
      "\u001b[32m[I 2024-03-17 17:43:03,770]\u001b[0m Trial 3 finished with value: 0.6752722096183185 and parameters: {'objective': 'binary:logistic', 'n_estimators': 97, 'max_depth': 2, 'learning_rate': 0.21513083816320155, 'subsample': 0.1016385571012327, 'min_child_weight': 1, 'colsample_bytree': 0.3057623187578782, 'reg_alpha': 5.1276449927524625, 'reg_lambda': 4.306555121026459}. Best is trial 3 with value: 0.6752722096183185.\u001b[0m\n",
      "\u001b[32m[I 2024-03-17 17:43:13,718]\u001b[0m Trial 5 finished with value: 0.7090899722370392 and parameters: {'objective': 'multi:softmax', 'n_estimators': 234, 'max_depth': 1, 'learning_rate': 0.32859948080501095, 'subsample': 0.6463761936926293, 'min_child_weight': 4, 'colsample_bytree': 0.30200711332474195, 'reg_alpha': 7.658028730820516, 'reg_lambda': 4.773872796336602}. Best is trial 5 with value: 0.7090899722370392.\u001b[0m\n",
      "\u001b[32m[I 2024-03-17 17:43:17,607]\u001b[0m Trial 12 finished with value: 0.7042620302123068 and parameters: {'objective': 'binary:logistic', 'n_estimators': 34, 'max_depth': 10, 'learning_rate': 0.32482687751008943, 'subsample': 0.40397933684927456, 'min_child_weight': 5, 'colsample_bytree': 0.7457195138696774, 'reg_alpha': 3.0886579575569804, 'reg_lambda': 5.534866052105054}. Best is trial 5 with value: 0.7090899722370392.\u001b[0m\n",
      "\u001b[32m[I 2024-03-17 17:43:19,005]\u001b[0m Trial 15 finished with value: 0.6600948676328388 and parameters: {'objective': 'binary:logistic', 'n_estimators': 22, 'max_depth': 2, 'learning_rate': 0.2456624017313386, 'subsample': 0.8341783000439957, 'min_child_weight': 4, 'colsample_bytree': 0.5148394490794099, 'reg_alpha': 0.697695249247627, 'reg_lambda': 0.2251990732010851}. Best is trial 5 with value: 0.7090899722370392.\u001b[0m\n",
      "\u001b[32m[I 2024-03-17 17:43:36,487]\u001b[0m Trial 7 finished with value: 0.7083330402158478 and parameters: {'objective': 'multi:softprob', 'n_estimators': 167, 'max_depth': 3, 'learning_rate': 0.1456157656604115, 'subsample': 0.45562666619847514, 'min_child_weight': 4, 'colsample_bytree': 0.7450447389370178, 'reg_alpha': 0.1868621317598339, 'reg_lambda': 1.814706616160688}. Best is trial 5 with value: 0.7090899722370392.\u001b[0m\n",
      "\u001b[32m[I 2024-03-17 17:43:38,476]\u001b[0m Trial 10 finished with value: 0.6898419728313759 and parameters: {'objective': 'binary:logistic', 'n_estimators': 87, 'max_depth': 6, 'learning_rate': 0.4847517063098356, 'subsample': 0.6464443453164291, 'min_child_weight': 5, 'colsample_bytree': 0.3365064100740681, 'reg_alpha': 2.0119663318662893, 'reg_lambda': 4.579593898568485}. Best is trial 5 with value: 0.7090899722370392.\u001b[0m\n",
      "\u001b[32m[I 2024-03-17 17:43:40,939]\u001b[0m Trial 9 finished with value: 0.687764110841154 and parameters: {'objective': 'binary:logistic', 'n_estimators': 81, 'max_depth': 11, 'learning_rate': 0.46771276016238766, 'subsample': 0.38072540531460164, 'min_child_weight': 5, 'colsample_bytree': 0.1126120535156616, 'reg_alpha': 0.42895439449322204, 'reg_lambda': 5.164953736865815}. Best is trial 5 with value: 0.7090899722370392.\u001b[0m\n",
      "\u001b[32m[I 2024-03-17 17:43:56,839]\u001b[0m Trial 20 finished with value: 0.5935614832460013 and parameters: {'objective': 'multi:softprob', 'n_estimators': 58, 'max_depth': 2, 'learning_rate': 0.025756777464749078, 'subsample': 0.8125828528901552, 'min_child_weight': 3, 'colsample_bytree': 0.8859749034130756, 'reg_alpha': 7.77413428757393, 'reg_lambda': 4.716705340637285}. Best is trial 5 with value: 0.7090899722370392.\u001b[0m\n",
      "\u001b[32m[I 2024-03-17 17:43:59,657]\u001b[0m Trial 1 finished with value: 0.702524186241666 and parameters: {'objective': 'multi:softmax', 'n_estimators': 101, 'max_depth': 8, 'learning_rate': 0.2653432475239945, 'subsample': 0.6386080513738753, 'min_child_weight': 3, 'colsample_bytree': 0.5040512213653284, 'reg_alpha': 7.393981364955182, 'reg_lambda': 1.1314872579829187}. Best is trial 5 with value: 0.7090899722370392.\u001b[0m\n",
      "\u001b[32m[I 2024-03-17 17:44:30,670]\u001b[0m Trial 13 finished with value: 0.7123726366260615 and parameters: {'objective': 'binary:logistic', 'n_estimators': 193, 'max_depth': 4, 'learning_rate': 0.23538227570931727, 'subsample': 0.9173189344940985, 'min_child_weight': 5, 'colsample_bytree': 0.21119003371011022, 'reg_alpha': 1.1245539568039509, 'reg_lambda': 5.122717791985079}. Best is trial 13 with value: 0.7123726366260615.\u001b[0m\n",
      "\u001b[32m[I 2024-03-17 17:44:37,995]\u001b[0m Trial 4 finished with value: 0.7121569647201871 and parameters: {'objective': 'binary:logistic', 'n_estimators': 168, 'max_depth': 7, 'learning_rate': 0.3600478325353735, 'subsample': 0.5169470152540376, 'min_child_weight': 5, 'colsample_bytree': 0.7082567681521958, 'reg_alpha': 2.6908397215167135, 'reg_lambda': 8.91980827911209}. Best is trial 13 with value: 0.7123726366260615.\u001b[0m\n",
      "\u001b[32m[I 2024-03-17 17:44:44,912]\u001b[0m Trial 16 finished with value: 0.7007076193109735 and parameters: {'objective': 'binary:logistic', 'n_estimators': 137, 'max_depth': 6, 'learning_rate': 0.3542931101461758, 'subsample': 0.4103014569721555, 'min_child_weight': 3, 'colsample_bytree': 0.8531785908032837, 'reg_alpha': 6.075731925295901, 'reg_lambda': 6.010223860630852}. Best is trial 13 with value: 0.7123726366260615.\u001b[0m\n",
      "\u001b[32m[I 2024-03-17 17:44:46,964]\u001b[0m Trial 14 finished with value: 0.7017627540990862 and parameters: {'objective': 'binary:logistic', 'n_estimators': 124, 'max_depth': 9, 'learning_rate': 0.098702977569873, 'subsample': 0.3011338198210146, 'min_child_weight': 3, 'colsample_bytree': 0.2904346362553618, 'reg_alpha': 9.978055175329173, 'reg_lambda': 0.7352757712324178}. Best is trial 13 with value: 0.7123726366260615.\u001b[0m\n",
      "\u001b[32m[I 2024-03-17 17:44:52,121]\u001b[0m Trial 18 finished with value: 0.7118718041557507 and parameters: {'objective': 'multi:softmax', 'n_estimators': 137, 'max_depth': 4, 'learning_rate': 0.2231095841594167, 'subsample': 0.5112624964628357, 'min_child_weight': 3, 'colsample_bytree': 0.8027503714144929, 'reg_alpha': 4.161117704940504, 'reg_lambda': 6.293186630299822}. Best is trial 13 with value: 0.7123726366260615.\u001b[0m\n",
      "\u001b[32m[I 2024-03-17 17:45:06,364]\u001b[0m Trial 22 finished with value: 0.7151902481952045 and parameters: {'objective': 'multi:softprob', 'n_estimators': 253, 'max_depth': 4, 'learning_rate': 0.3535780909558933, 'subsample': 0.95940870559224, 'min_child_weight': 4, 'colsample_bytree': 0.9535486139641911, 'reg_alpha': 9.968418082825348, 'reg_lambda': 2.618705962343527}. Best is trial 22 with value: 0.7151902481952045.\u001b[0m\n",
      "\u001b[32m[I 2024-03-17 17:45:10,487]\u001b[0m Trial 0 finished with value: 0.6779782908765477 and parameters: {'objective': 'binary:logistic', 'n_estimators': 110, 'max_depth': 8, 'learning_rate': 0.009163501745314006, 'subsample': 0.6302588684218786, 'min_child_weight': 3, 'colsample_bytree': 0.7170605137717805, 'reg_alpha': 0.30857527857762035, 'reg_lambda': 7.025947369958799}. Best is trial 22 with value: 0.7151902481952045.\u001b[0m\n",
      "\u001b[32m[I 2024-03-17 17:45:13,628]\u001b[0m Trial 17 finished with value: 0.712913206820413 and parameters: {'objective': 'multi:softmax', 'n_estimators': 294, 'max_depth': 7, 'learning_rate': 0.3007976002717353, 'subsample': 0.5269664421188556, 'min_child_weight': 1, 'colsample_bytree': 0.8515597961199228, 'reg_alpha': 9.774858124654687, 'reg_lambda': 7.446601721785826}. Best is trial 22 with value: 0.7151902481952045.\u001b[0m\n",
      "\u001b[32m[I 2024-03-17 17:45:15,400]\u001b[0m Trial 21 finished with value: 0.7174765682372612 and parameters: {'objective': 'multi:softmax', 'n_estimators': 266, 'max_depth': 4, 'learning_rate': 0.3422994438136563, 'subsample': 0.9297263936422409, 'min_child_weight': 2, 'colsample_bytree': 0.12443817994418893, 'reg_alpha': 9.363303756397196, 'reg_lambda': 9.93196887294754}. Best is trial 21 with value: 0.7174765682372612.\u001b[0m\n",
      "\u001b[32m[I 2024-03-17 17:45:16,197]\u001b[0m Trial 6 finished with value: 0.6998339056628653 and parameters: {'objective': 'binary:logistic', 'n_estimators': 109, 'max_depth': 10, 'learning_rate': 0.04635662947898414, 'subsample': 0.760638019669057, 'min_child_weight': 4, 'colsample_bytree': 0.5031427313926361, 'reg_alpha': 1.6229875674629206, 'reg_lambda': 5.789321311451899}. Best is trial 21 with value: 0.7174765682372612.\u001b[0m\n",
      "\u001b[32m[I 2024-03-17 17:45:19,758]\u001b[0m Trial 24 finished with value: 0.7065830069446761 and parameters: {'objective': 'binary:logistic', 'n_estimators': 196, 'max_depth': 5, 'learning_rate': 0.3866133859143501, 'subsample': 0.9882956613495499, 'min_child_weight': 5, 'colsample_bytree': 0.1739888936507713, 'reg_alpha': 9.99553126005415, 'reg_lambda': 9.616340134139897}. Best is trial 21 with value: 0.7174765682372612.\u001b[0m\n",
      "\u001b[32m[I 2024-03-17 17:45:25,068]\u001b[0m Trial 23 finished with value: 0.7158699737888685 and parameters: {'objective': 'multi:softmax', 'n_estimators': 252, 'max_depth': 5, 'learning_rate': 0.3540154319217948, 'subsample': 0.9421901346441353, 'min_child_weight': 4, 'colsample_bytree': 0.10917345503497086, 'reg_alpha': 9.026138473764329, 'reg_lambda': 9.989400995331017}. Best is trial 21 with value: 0.7174765682372612.\u001b[0m\n",
      "\u001b[32m[I 2024-03-17 17:45:33,264]\u001b[0m Trial 19 finished with value: 0.714814093871657 and parameters: {'objective': 'binary:logistic', 'n_estimators': 254, 'max_depth': 8, 'learning_rate': 0.1770826251741413, 'subsample': 0.6149936531070404, 'min_child_weight': 4, 'colsample_bytree': 0.836546609268908, 'reg_alpha': 7.234755701645605, 'reg_lambda': 6.92801818617938}. Best is trial 21 with value: 0.7174765682372612.\u001b[0m\n",
      "\u001b[32m[I 2024-03-17 17:45:39,261]\u001b[0m Trial 8 finished with value: 0.6969333843915646 and parameters: {'objective': 'multi:softprob', 'n_estimators': 217, 'max_depth': 10, 'learning_rate': 0.033413617537431155, 'subsample': 0.9264938989745145, 'min_child_weight': 4, 'colsample_bytree': 0.6188134708974141, 'reg_alpha': 7.096739983892608, 'reg_lambda': 3.6281090818417905}. Best is trial 21 with value: 0.7174765682372612.\u001b[0m\n"
     ]
    }
   ],
   "source": [
    "trial.optimize(objective, n_trials=25, n_jobs=-1)"
   ]
  },
  {
   "cell_type": "markdown",
   "metadata": {},
   "source": [
    "Örnek olması açısından 25 trial ile hyperparameter tuning işlemlerini uyguladım. Daha fazla trial ile daha iyi sonuçlar alınabilir."
   ]
  },
  {
   "cell_type": "code",
   "execution_count": 33,
   "metadata": {},
   "outputs": [
    {
     "data": {
      "text/plain": [
       "{'objective': 'multi:softmax',\n",
       " 'n_estimators': 266,\n",
       " 'max_depth': 4,\n",
       " 'learning_rate': 0.3422994438136563,\n",
       " 'subsample': 0.9297263936422409,\n",
       " 'min_child_weight': 2,\n",
       " 'colsample_bytree': 0.12443817994418893,\n",
       " 'reg_alpha': 9.363303756397196,\n",
       " 'reg_lambda': 9.93196887294754}"
      ]
     },
     "execution_count": 33,
     "metadata": {},
     "output_type": "execute_result"
    }
   ],
   "source": [
    "best_params = trial.best_params\n",
    "best_params"
   ]
  },
  {
   "cell_type": "code",
   "execution_count": 34,
   "metadata": {},
   "outputs": [],
   "source": [
    "best_model = XGBClassifier(**best_params)"
   ]
  },
  {
   "cell_type": "code",
   "execution_count": 35,
   "metadata": {},
   "outputs": [
    {
     "data": {
      "text/html": [
       "<style>#sk-container-id-1 {color: black;}#sk-container-id-1 pre{padding: 0;}#sk-container-id-1 div.sk-toggleable {background-color: white;}#sk-container-id-1 label.sk-toggleable__label {cursor: pointer;display: block;width: 100%;margin-bottom: 0;padding: 0.3em;box-sizing: border-box;text-align: center;}#sk-container-id-1 label.sk-toggleable__label-arrow:before {content: \"▸\";float: left;margin-right: 0.25em;color: #696969;}#sk-container-id-1 label.sk-toggleable__label-arrow:hover:before {color: black;}#sk-container-id-1 div.sk-estimator:hover label.sk-toggleable__label-arrow:before {color: black;}#sk-container-id-1 div.sk-toggleable__content {max-height: 0;max-width: 0;overflow: hidden;text-align: left;background-color: #f0f8ff;}#sk-container-id-1 div.sk-toggleable__content pre {margin: 0.2em;color: black;border-radius: 0.25em;background-color: #f0f8ff;}#sk-container-id-1 input.sk-toggleable__control:checked~div.sk-toggleable__content {max-height: 200px;max-width: 100%;overflow: auto;}#sk-container-id-1 input.sk-toggleable__control:checked~label.sk-toggleable__label-arrow:before {content: \"▾\";}#sk-container-id-1 div.sk-estimator input.sk-toggleable__control:checked~label.sk-toggleable__label {background-color: #d4ebff;}#sk-container-id-1 div.sk-label input.sk-toggleable__control:checked~label.sk-toggleable__label {background-color: #d4ebff;}#sk-container-id-1 input.sk-hidden--visually {border: 0;clip: rect(1px 1px 1px 1px);clip: rect(1px, 1px, 1px, 1px);height: 1px;margin: -1px;overflow: hidden;padding: 0;position: absolute;width: 1px;}#sk-container-id-1 div.sk-estimator {font-family: monospace;background-color: #f0f8ff;border: 1px dotted black;border-radius: 0.25em;box-sizing: border-box;margin-bottom: 0.5em;}#sk-container-id-1 div.sk-estimator:hover {background-color: #d4ebff;}#sk-container-id-1 div.sk-parallel-item::after {content: \"\";width: 100%;border-bottom: 1px solid gray;flex-grow: 1;}#sk-container-id-1 div.sk-label:hover label.sk-toggleable__label {background-color: #d4ebff;}#sk-container-id-1 div.sk-serial::before {content: \"\";position: absolute;border-left: 1px solid gray;box-sizing: border-box;top: 0;bottom: 0;left: 50%;z-index: 0;}#sk-container-id-1 div.sk-serial {display: flex;flex-direction: column;align-items: center;background-color: white;padding-right: 0.2em;padding-left: 0.2em;position: relative;}#sk-container-id-1 div.sk-item {position: relative;z-index: 1;}#sk-container-id-1 div.sk-parallel {display: flex;align-items: stretch;justify-content: center;background-color: white;position: relative;}#sk-container-id-1 div.sk-item::before, #sk-container-id-1 div.sk-parallel-item::before {content: \"\";position: absolute;border-left: 1px solid gray;box-sizing: border-box;top: 0;bottom: 0;left: 50%;z-index: -1;}#sk-container-id-1 div.sk-parallel-item {display: flex;flex-direction: column;z-index: 1;position: relative;background-color: white;}#sk-container-id-1 div.sk-parallel-item:first-child::after {align-self: flex-end;width: 50%;}#sk-container-id-1 div.sk-parallel-item:last-child::after {align-self: flex-start;width: 50%;}#sk-container-id-1 div.sk-parallel-item:only-child::after {width: 0;}#sk-container-id-1 div.sk-dashed-wrapped {border: 1px dashed gray;margin: 0 0.4em 0.5em 0.4em;box-sizing: border-box;padding-bottom: 0.4em;background-color: white;}#sk-container-id-1 div.sk-label label {font-family: monospace;font-weight: bold;display: inline-block;line-height: 1.2em;}#sk-container-id-1 div.sk-label-container {text-align: center;}#sk-container-id-1 div.sk-container {/* jupyter's `normalize.less` sets `[hidden] { display: none; }` but bootstrap.min.css set `[hidden] { display: none !important; }` so we also need the `!important` here to be able to override the default hidden behavior on the sphinx rendered scikit-learn.org. See: https://github.com/scikit-learn/scikit-learn/issues/21755 */display: inline-block !important;position: relative;}#sk-container-id-1 div.sk-text-repr-fallback {display: none;}</style><div id=\"sk-container-id-1\" class=\"sk-top-container\"><div class=\"sk-text-repr-fallback\"><pre>XGBClassifier(base_score=None, booster=None, callbacks=None,\n",
       "              colsample_bylevel=None, colsample_bynode=None,\n",
       "              colsample_bytree=0.12443817994418893, early_stopping_rounds=None,\n",
       "              enable_categorical=False, eval_metric=None, feature_types=None,\n",
       "              gamma=None, gpu_id=None, grow_policy=None, importance_type=None,\n",
       "              interaction_constraints=None, learning_rate=0.3422994438136563,\n",
       "              max_bin=None, max_cat_threshold=None, max_cat_to_onehot=None,\n",
       "              max_delta_step=None, max_depth=4, max_leaves=None,\n",
       "              min_child_weight=2, missing=nan, monotone_constraints=None,\n",
       "              n_estimators=266, n_jobs=None, num_parallel_tree=None,\n",
       "              objective=&#x27;multi:softmax&#x27;, predictor=None, ...)</pre><b>In a Jupyter environment, please rerun this cell to show the HTML representation or trust the notebook. <br />On GitHub, the HTML representation is unable to render, please try loading this page with nbviewer.org.</b></div><div class=\"sk-container\" hidden><div class=\"sk-item\"><div class=\"sk-estimator sk-toggleable\"><input class=\"sk-toggleable__control sk-hidden--visually\" id=\"sk-estimator-id-1\" type=\"checkbox\" checked><label for=\"sk-estimator-id-1\" class=\"sk-toggleable__label sk-toggleable__label-arrow\">XGBClassifier</label><div class=\"sk-toggleable__content\"><pre>XGBClassifier(base_score=None, booster=None, callbacks=None,\n",
       "              colsample_bylevel=None, colsample_bynode=None,\n",
       "              colsample_bytree=0.12443817994418893, early_stopping_rounds=None,\n",
       "              enable_categorical=False, eval_metric=None, feature_types=None,\n",
       "              gamma=None, gpu_id=None, grow_policy=None, importance_type=None,\n",
       "              interaction_constraints=None, learning_rate=0.3422994438136563,\n",
       "              max_bin=None, max_cat_threshold=None, max_cat_to_onehot=None,\n",
       "              max_delta_step=None, max_depth=4, max_leaves=None,\n",
       "              min_child_weight=2, missing=nan, monotone_constraints=None,\n",
       "              n_estimators=266, n_jobs=None, num_parallel_tree=None,\n",
       "              objective=&#x27;multi:softmax&#x27;, predictor=None, ...)</pre></div></div></div></div></div>"
      ],
      "text/plain": [
       "XGBClassifier(base_score=None, booster=None, callbacks=None,\n",
       "              colsample_bylevel=None, colsample_bynode=None,\n",
       "              colsample_bytree=0.12443817994418893, early_stopping_rounds=None,\n",
       "              enable_categorical=False, eval_metric=None, feature_types=None,\n",
       "              gamma=None, gpu_id=None, grow_policy=None, importance_type=None,\n",
       "              interaction_constraints=None, learning_rate=0.3422994438136563,\n",
       "              max_bin=None, max_cat_threshold=None, max_cat_to_onehot=None,\n",
       "              max_delta_step=None, max_depth=4, max_leaves=None,\n",
       "              min_child_weight=2, missing=nan, monotone_constraints=None,\n",
       "              n_estimators=266, n_jobs=None, num_parallel_tree=None,\n",
       "              objective='multi:softmax', predictor=None, ...)"
      ]
     },
     "execution_count": 35,
     "metadata": {},
     "output_type": "execute_result"
    }
   ],
   "source": [
    "best_model.fit(X_selected, y_pipelined)"
   ]
  },
  {
   "cell_type": "code",
   "execution_count": 92,
   "metadata": {},
   "outputs": [
    {
     "data": {
      "text/plain": [
       "accuracy     0.736602\n",
       "f1           0.717477\n",
       "precision    0.727441\n",
       "recall       0.715095\n",
       "dtype: float64"
      ]
     },
     "execution_count": 92,
     "metadata": {},
     "output_type": "execute_result"
    }
   ],
   "source": [
    "cv_score(best_model, X_selected, y_pipelined, exp.pipeline, cv=5)"
   ]
  },
  {
   "cell_type": "markdown",
   "metadata": {},
   "source": [
    "En iyi modelimizin `CV` sonuçları iyi denebilir."
   ]
  },
  {
   "cell_type": "markdown",
   "metadata": {},
   "source": [
    "Modeli başka yerlerde kullanabiliriz. Bu yüzden, modeli kaydedelim."
   ]
  },
  {
   "cell_type": "code",
   "execution_count": 36,
   "metadata": {},
   "outputs": [],
   "source": [
    "import joblib"
   ]
  },
  {
   "cell_type": "code",
   "execution_count": 37,
   "metadata": {},
   "outputs": [
    {
     "data": {
      "text/plain": [
       "['xgb_final_model.pkl']"
      ]
     },
     "execution_count": 37,
     "metadata": {},
     "output_type": "execute_result"
    }
   ],
   "source": [
    "joblib.dump(best_model, \"xgb_final_model.pkl\")"
   ]
  },
  {
   "cell_type": "code",
   "execution_count": 61,
   "metadata": {},
   "outputs": [],
   "source": [
    "FINAL_FEATURE_NAMES = X_selected.columns"
   ]
  },
  {
   "cell_type": "markdown",
   "metadata": {},
   "source": [
    "## Feature Importance"
   ]
  },
  {
   "cell_type": "code",
   "execution_count": 43,
   "metadata": {},
   "outputs": [],
   "source": [
    "import matplotlib.pyplot as plt"
   ]
  },
  {
   "cell_type": "code",
   "execution_count": 39,
   "metadata": {},
   "outputs": [],
   "source": [
    "def plot_feature_importance(model, X, top_n=10):\n",
    "    feature_importance = model.feature_importances_\n",
    "    feature_importance = 100.0 * (feature_importance / feature_importance.max())\n",
    "    sorted_idx = np.argsort(feature_importance)\n",
    "    pos = np.arange(sorted_idx.shape[0]) + .5\n",
    "    pos = pos[-top_n:]\n",
    "    plt.figure(figsize=(12, 6))\n",
    "    plt.barh(pos, feature_importance[sorted_idx][-top_n:], align=\"center\")\n",
    "    plt.yticks(pos, X.columns[sorted_idx][-top_n:])\n",
    "    plt.xlabel(\"Relative Importance\")\n",
    "    plt.title(\"Variable Importance\")\n",
    "    plt.show()"
   ]
  },
  {
   "cell_type": "markdown",
   "metadata": {},
   "source": [
    "Modele en fazla katkı sağlayan 20 feature'ı görselleştirelim."
   ]
  },
  {
   "cell_type": "code",
   "execution_count": 42,
   "metadata": {},
   "outputs": [
    {
     "data": {
      "image/png": "[encoded data removed]",
      "text/plain": [
       "<Figure size 1200x600 with 1 Axes>"
      ]
     },
     "metadata": {},
     "output_type": "display_data"
    }
   ],
   "source": [
    "plot_feature_importance(best_model, X_selected, top_n=20)"
   ]
  },
  {
   "cell_type": "markdown",
   "metadata": {},
   "source": [
    "## Diğer Sektörlerle Karşılaştırma"
   ]
  },
  {
   "cell_type": "code",
   "execution_count": 89,
   "metadata": {},
   "outputs": [],
   "source": [
    "def plot_prediction(prediction_df: pd.DataFrame, sector_name: str):\n",
    "    plt.figure(figsize=(10, 6))\n",
    "    values = prediction_df[\"Prediction\"].value_counts() / prediction_df.shape[0]\n",
    "    values.plot(kind=\"pie\", autopct=\"%1.1f%%\", startangle=140, colors=[\"#ff9999\", \"#66b3ff\", \"#99ff99\"])\n",
    "    plt.title(f\"Prediction Distribution with {sector_name} Sector\")\n",
    "    plt.show()"
   ]
  },
  {
   "cell_type": "code",
   "execution_count": 90,
   "metadata": {},
   "outputs": [],
   "source": [
    "exp = StockSectorsExperiment(scaler_name=None, imputer_name=\"DropImputer\")\n",
    "best_model_loaded = joblib.load(\"xgb_final_model.pkl\")"
   ]
  },
  {
   "cell_type": "markdown",
   "metadata": {},
   "source": [
    "Mesela `Enerji` sektörüne ait verilerle çalışalım. Bu verileri kullanarak modelimizi eğitelim. Sonuçları karşılaştıralım."
   ]
  },
  {
   "cell_type": "code",
   "execution_count": 44,
   "metadata": {},
   "outputs": [],
   "source": [
    "energy_df = pd.read_csv(\"data/stock_sectors/energy_features.csv\")"
   ]
  },
  {
   "cell_type": "code",
   "execution_count": 45,
   "metadata": {},
   "outputs": [
    {
     "data": {
      "text/html": [
       "<div>\n",
       "<style scoped>\n",
       "    .dataframe tbody tr th:only-of-type {\n",
       "        vertical-align: middle;\n",
       "    }\n",
       "\n",
       "    .dataframe tbody tr th {\n",
       "        vertical-align: top;\n",
       "    }\n",
       "\n",
       "    .dataframe thead th {\n",
       "        text-align: right;\n",
       "    }\n",
       "</style>\n",
       "<table border=\"1\" class=\"dataframe\">\n",
       "  <thead>\n",
       "    <tr style=\"text-align: right;\">\n",
       "      <th></th>\n",
       "      <th>Unnamed: 0</th>\n",
       "      <th>Change__variance_larger_than_standard_deviation</th>\n",
       "      <th>Change__has_duplicate_max</th>\n",
       "      <th>Change__has_duplicate_min</th>\n",
       "      <th>Change__has_duplicate</th>\n",
       "      <th>Change__sum_values</th>\n",
       "      <th>Change__abs_energy</th>\n",
       "      <th>Change__mean_abs_change</th>\n",
       "      <th>Change__mean_change</th>\n",
       "      <th>Change__mean_second_derivative_central</th>\n",
       "      <th>...</th>\n",
       "      <th>Change__fourier_entropy__bins_10</th>\n",
       "      <th>Change__fourier_entropy__bins_100</th>\n",
       "      <th>Change__permutation_entropy__dimension_3__tau_1</th>\n",
       "      <th>Change__permutation_entropy__dimension_4__tau_1</th>\n",
       "      <th>Change__permutation_entropy__dimension_5__tau_1</th>\n",
       "      <th>Change__permutation_entropy__dimension_6__tau_1</th>\n",
       "      <th>Change__permutation_entropy__dimension_7__tau_1</th>\n",
       "      <th>Change__query_similarity_count__query_None__threshold_0.0</th>\n",
       "      <th>Change__mean_n_absolute_max__number_of_maxima_7</th>\n",
       "      <th>Sector</th>\n",
       "    </tr>\n",
       "  </thead>\n",
       "  <tbody>\n",
       "    <tr>\n",
       "      <th>0</th>\n",
       "      <td>ACDC</td>\n",
       "      <td>0.0</td>\n",
       "      <td>0.0</td>\n",
       "      <td>1.0</td>\n",
       "      <td>1.0</td>\n",
       "      <td>18.399157</td>\n",
       "      <td>18.306963</td>\n",
       "      <td>0.020901</td>\n",
       "      <td>0.004114</td>\n",
       "      <td>-0.000179</td>\n",
       "      <td>...</td>\n",
       "      <td>0.099760</td>\n",
       "      <td>0.099760</td>\n",
       "      <td>0.283154</td>\n",
       "      <td>0.390009</td>\n",
       "      <td>0.491000</td>\n",
       "      <td>0.535949</td>\n",
       "      <td>0.544205</td>\n",
       "      <td>NaN</td>\n",
       "      <td>1.188036</td>\n",
       "      <td>Energy</td>\n",
       "    </tr>\n",
       "    <tr>\n",
       "      <th>1</th>\n",
       "      <td>AE</td>\n",
       "      <td>0.0</td>\n",
       "      <td>0.0</td>\n",
       "      <td>0.0</td>\n",
       "      <td>0.0</td>\n",
       "      <td>235.331148</td>\n",
       "      <td>254.437111</td>\n",
       "      <td>0.146954</td>\n",
       "      <td>0.000713</td>\n",
       "      <td>-0.000261</td>\n",
       "      <td>...</td>\n",
       "      <td>1.013428</td>\n",
       "      <td>2.783221</td>\n",
       "      <td>1.727728</td>\n",
       "      <td>2.925806</td>\n",
       "      <td>4.099104</td>\n",
       "      <td>4.939985</td>\n",
       "      <td>5.270715</td>\n",
       "      <td>NaN</td>\n",
       "      <td>1.624496</td>\n",
       "      <td>Energy</td>\n",
       "    </tr>\n",
       "    <tr>\n",
       "      <th>2</th>\n",
       "      <td>AESI</td>\n",
       "      <td>0.0</td>\n",
       "      <td>0.0</td>\n",
       "      <td>1.0</td>\n",
       "      <td>1.0</td>\n",
       "      <td>10.716363</td>\n",
       "      <td>11.860670</td>\n",
       "      <td>0.010900</td>\n",
       "      <td>0.005675</td>\n",
       "      <td>0.000376</td>\n",
       "      <td>...</td>\n",
       "      <td>0.099760</td>\n",
       "      <td>0.099760</td>\n",
       "      <td>0.127217</td>\n",
       "      <td>0.164576</td>\n",
       "      <td>0.199870</td>\n",
       "      <td>0.200624</td>\n",
       "      <td>0.201384</td>\n",
       "      <td>NaN</td>\n",
       "      <td>1.170283</td>\n",
       "      <td>Energy</td>\n",
       "    </tr>\n",
       "    <tr>\n",
       "      <th>3</th>\n",
       "      <td>AM</td>\n",
       "      <td>0.0</td>\n",
       "      <td>0.0</td>\n",
       "      <td>1.0</td>\n",
       "      <td>1.0</td>\n",
       "      <td>82.752611</td>\n",
       "      <td>90.917072</td>\n",
       "      <td>0.058864</td>\n",
       "      <td>0.004784</td>\n",
       "      <td>0.000136</td>\n",
       "      <td>...</td>\n",
       "      <td>0.149525</td>\n",
       "      <td>0.447445</td>\n",
       "      <td>0.974254</td>\n",
       "      <td>1.524620</td>\n",
       "      <td>1.905433</td>\n",
       "      <td>2.081801</td>\n",
       "      <td>2.145435</td>\n",
       "      <td>NaN</td>\n",
       "      <td>1.555389</td>\n",
       "      <td>Energy</td>\n",
       "    </tr>\n",
       "    <tr>\n",
       "      <th>4</th>\n",
       "      <td>AMPY</td>\n",
       "      <td>1.0</td>\n",
       "      <td>0.0</td>\n",
       "      <td>1.0</td>\n",
       "      <td>1.0</td>\n",
       "      <td>578.500582</td>\n",
       "      <td>68484.947304</td>\n",
       "      <td>1.996080</td>\n",
       "      <td>0.004480</td>\n",
       "      <td>0.000073</td>\n",
       "      <td>...</td>\n",
       "      <td>1.979511</td>\n",
       "      <td>3.865012</td>\n",
       "      <td>1.433814</td>\n",
       "      <td>2.278336</td>\n",
       "      <td>2.977244</td>\n",
       "      <td>3.430161</td>\n",
       "      <td>3.644973</td>\n",
       "      <td>NaN</td>\n",
       "      <td>65.366922</td>\n",
       "      <td>Energy</td>\n",
       "    </tr>\n",
       "  </tbody>\n",
       "</table>\n",
       "<p>5 rows × 779 columns</p>\n",
       "</div>"
      ],
      "text/plain": [
       "  Unnamed: 0  Change__variance_larger_than_standard_deviation  \\\n",
       "0       ACDC                                              0.0   \n",
       "1         AE                                              0.0   \n",
       "2       AESI                                              0.0   \n",
       "3         AM                                              0.0   \n",
       "4       AMPY                                              1.0   \n",
       "\n",
       "   Change__has_duplicate_max  Change__has_duplicate_min  \\\n",
       "0                        0.0                        1.0   \n",
       "1                        0.0                        0.0   \n",
       "2                        0.0                        1.0   \n",
       "3                        0.0                        1.0   \n",
       "4                        0.0                        1.0   \n",
       "\n",
       "   Change__has_duplicate  Change__sum_values  Change__abs_energy  \\\n",
       "0                    1.0           18.399157           18.306963   \n",
       "1                    0.0          235.331148          254.437111   \n",
       "2                    1.0           10.716363           11.860670   \n",
       "3                    1.0           82.752611           90.917072   \n",
       "4                    1.0          578.500582        68484.947304   \n",
       "\n",
       "   Change__mean_abs_change  Change__mean_change  \\\n",
       "0                 0.020901             0.004114   \n",
       "1                 0.146954             0.000713   \n",
       "2                 0.010900             0.005675   \n",
       "3                 0.058864             0.004784   \n",
       "4                 1.996080             0.004480   \n",
       "\n",
       "   Change__mean_second_derivative_central  ...  \\\n",
       "0                               -0.000179  ...   \n",
       "1                               -0.000261  ...   \n",
       "2                                0.000376  ...   \n",
       "3                                0.000136  ...   \n",
       "4                                0.000073  ...   \n",
       "\n",
       "   Change__fourier_entropy__bins_10  Change__fourier_entropy__bins_100  \\\n",
       "0                          0.099760                           0.099760   \n",
       "1                          1.013428                           2.783221   \n",
       "2                          0.099760                           0.099760   \n",
       "3                          0.149525                           0.447445   \n",
       "4                          1.979511                           3.865012   \n",
       "\n",
       "   Change__permutation_entropy__dimension_3__tau_1  \\\n",
       "0                                         0.283154   \n",
       "1                                         1.727728   \n",
       "2                                         0.127217   \n",
       "3                                         0.974254   \n",
       "4                                         1.433814   \n",
       "\n",
       "   Change__permutation_entropy__dimension_4__tau_1  \\\n",
       "0                                         0.390009   \n",
       "1                                         2.925806   \n",
       "2                                         0.164576   \n",
       "3                                         1.524620   \n",
       "4                                         2.278336   \n",
       "\n",
       "   Change__permutation_entropy__dimension_5__tau_1  \\\n",
       "0                                         0.491000   \n",
       "1                                         4.099104   \n",
       "2                                         0.199870   \n",
       "3                                         1.905433   \n",
       "4                                         2.977244   \n",
       "\n",
       "   Change__permutation_entropy__dimension_6__tau_1  \\\n",
       "0                                         0.535949   \n",
       "1                                         4.939985   \n",
       "2                                         0.200624   \n",
       "3                                         2.081801   \n",
       "4                                         3.430161   \n",
       "\n",
       "   Change__permutation_entropy__dimension_7__tau_1  \\\n",
       "0                                         0.544205   \n",
       "1                                         5.270715   \n",
       "2                                         0.201384   \n",
       "3                                         2.145435   \n",
       "4                                         3.644973   \n",
       "\n",
       "   Change__query_similarity_count__query_None__threshold_0.0  \\\n",
       "0                                                NaN           \n",
       "1                                                NaN           \n",
       "2                                                NaN           \n",
       "3                                                NaN           \n",
       "4                                                NaN           \n",
       "\n",
       "   Change__mean_n_absolute_max__number_of_maxima_7  Sector  \n",
       "0                                         1.188036  Energy  \n",
       "1                                         1.624496  Energy  \n",
       "2                                         1.170283  Energy  \n",
       "3                                         1.555389  Energy  \n",
       "4                                        65.366922  Energy  \n",
       "\n",
       "[5 rows x 779 columns]"
      ]
     },
     "execution_count": 45,
     "metadata": {},
     "output_type": "execute_result"
    }
   ],
   "source": [
    "energy_df.head()"
   ]
  },
  {
   "cell_type": "code",
   "execution_count": 46,
   "metadata": {},
   "outputs": [],
   "source": [
    "energy_df.rename(columns={\"Unnamed: 0\": \"Symbol\"}, inplace=True)\n",
    "# Özel karakterleri alt çizgiyle değiştirme\n",
    "energy_df.columns = energy_df.columns.str.replace('[^a-zA-Z0-9_]', '_')"
   ]
  },
  {
   "cell_type": "code",
   "execution_count": 48,
   "metadata": {},
   "outputs": [
    {
     "data": {
      "text/plain": [
       "Change__query_similarity_count__query_None__threshold_0_0    252\n",
       "Change__friedrich_coefficients__coeff_1__m_3__r_30           137\n",
       "Change__max_langevin_fixed_point__m_3__r_30                  137\n",
       "Change__friedrich_coefficients__coeff_0__m_3__r_30           137\n",
       "Change__friedrich_coefficients__coeff_3__m_3__r_30           137\n",
       "                                                            ... \n",
       "Change__fft_coefficient__attr__real___coeff_16                 0\n",
       "Change__fft_coefficient__attr__real___coeff_17                 0\n",
       "Change__fft_coefficient__attr__real___coeff_18                 0\n",
       "Change__fft_coefficient__attr__real___coeff_19                 0\n",
       "Sector                                                         0\n",
       "Length: 779, dtype: int64"
      ]
     },
     "execution_count": 48,
     "metadata": {},
     "output_type": "execute_result"
    }
   ],
   "source": [
    "energy_df.isnull().sum().sort_values(ascending=False)"
   ]
  },
  {
   "cell_type": "code",
   "execution_count": 49,
   "metadata": {},
   "outputs": [],
   "source": [
    "energy_df = drop_missing_features(energy_df)"
   ]
  },
  {
   "cell_type": "code",
   "execution_count": 50,
   "metadata": {},
   "outputs": [
    {
     "data": {
      "text/plain": [
       "Change__augmented_dickey_fuller__attr__pvalue___autolag__AIC_      2\n",
       "Change__augmented_dickey_fuller__attr__teststat___autolag__AIC_    2\n",
       "Change__partial_autocorrelation__lag_7                             1\n",
       "Change__autocorrelation__lag_2                                     1\n",
       "Change__autocorrelation__lag_8                                     1\n",
       "                                                                  ..\n",
       "Change__fft_coefficient__attr__real___coeff_14                     0\n",
       "Change__fft_coefficient__attr__real___coeff_15                     0\n",
       "Change__fft_coefficient__attr__real___coeff_16                     0\n",
       "Change__fft_coefficient__attr__real___coeff_17                     0\n",
       "Sector                                                             0\n",
       "Length: 773, dtype: int64"
      ]
     },
     "execution_count": 50,
     "metadata": {},
     "output_type": "execute_result"
    }
   ],
   "source": [
    "energy_df.isnull().sum().sort_values(ascending=False)"
   ]
  },
  {
   "cell_type": "code",
   "execution_count": 57,
   "metadata": {},
   "outputs": [],
   "source": [
    "X = energy_df.drop(columns=[\"Sector\", \"Symbol\"])"
   ]
  },
  {
   "cell_type": "markdown",
   "metadata": {},
   "source": [
    "Sadece `X` kullanmamızın nedeni, modelimizi eğitirken bu sektöre ait sınıfı kullanmadık."
   ]
  },
  {
   "cell_type": "code",
   "execution_count": 60,
   "metadata": {},
   "outputs": [],
   "source": [
    "X = exp.pipeline.fit_transform(X)"
   ]
  },
  {
   "cell_type": "code",
   "execution_count": 62,
   "metadata": {},
   "outputs": [],
   "source": [
    "X = X[FINAL_FEATURE_NAMES]"
   ]
  },
  {
   "cell_type": "code",
   "execution_count": 65,
   "metadata": {},
   "outputs": [],
   "source": [
    "pred = best_model_loaded.predict(X)"
   ]
  },
  {
   "cell_type": "code",
   "execution_count": 72,
   "metadata": {},
   "outputs": [],
   "source": [
    "energy_pred_df = pd.DataFrame()\n",
    "energy_pred_df[\"Symbol\"] = energy_df[energy_df.index.isin(X.index)][\"Symbol\"]\n",
    "energy_pred_df[\"Prediction\"] = pred\n",
    "energy_pred_df[\"Prediction\"] = energy_pred_df[\"Prediction\"].map({v: k for k, v in target_encoder.items()})"
   ]
  },
  {
   "cell_type": "code",
   "execution_count": 76,
   "metadata": {},
   "outputs": [
    {
     "data": {
      "text/html": [
       "<div>\n",
       "<style scoped>\n",
       "    .dataframe tbody tr th:only-of-type {\n",
       "        vertical-align: middle;\n",
       "    }\n",
       "\n",
       "    .dataframe tbody tr th {\n",
       "        vertical-align: top;\n",
       "    }\n",
       "\n",
       "    .dataframe thead th {\n",
       "        text-align: right;\n",
       "    }\n",
       "</style>\n",
       "<table border=\"1\" class=\"dataframe\">\n",
       "  <thead>\n",
       "    <tr style=\"text-align: right;\">\n",
       "      <th></th>\n",
       "      <th>Symbol</th>\n",
       "      <th>Prediction</th>\n",
       "    </tr>\n",
       "  </thead>\n",
       "  <tbody>\n",
       "    <tr>\n",
       "      <th>0</th>\n",
       "      <td>ACDC</td>\n",
       "      <td>Healthcare</td>\n",
       "    </tr>\n",
       "    <tr>\n",
       "      <th>1</th>\n",
       "      <td>AE</td>\n",
       "      <td>Technology</td>\n",
       "    </tr>\n",
       "    <tr>\n",
       "      <th>2</th>\n",
       "      <td>AESI</td>\n",
       "      <td>Healthcare</td>\n",
       "    </tr>\n",
       "    <tr>\n",
       "      <th>3</th>\n",
       "      <td>AM</td>\n",
       "      <td>Technology</td>\n",
       "    </tr>\n",
       "    <tr>\n",
       "      <th>4</th>\n",
       "      <td>AMPY</td>\n",
       "      <td>Healthcare</td>\n",
       "    </tr>\n",
       "  </tbody>\n",
       "</table>\n",
       "</div>"
      ],
      "text/plain": [
       "  Symbol  Prediction\n",
       "0   ACDC  Healthcare\n",
       "1     AE  Technology\n",
       "2   AESI  Healthcare\n",
       "3     AM  Technology\n",
       "4   AMPY  Healthcare"
      ]
     },
     "execution_count": 76,
     "metadata": {},
     "output_type": "execute_result"
    }
   ],
   "source": [
    "energy_pred_df.head()"
   ]
  },
  {
   "cell_type": "code",
   "execution_count": 91,
   "metadata": {},
   "outputs": [
    {
     "data": {
      "image/png": "[encoded data removed]",
      "text/plain": [
       "<Figure size 1000x600 with 1 Axes>"
      ]
     },
     "metadata": {},
     "output_type": "display_data"
    }
   ],
   "source": [
    "plot_prediction(energy_pred_df, \"Energy\")"
   ]
  },
  {
   "cell_type": "markdown",
   "metadata": {},
   "source": [
    "Grafiğe baktığımız zaman `Enerji` sektörüne ait veriler, bizim modelimize göre daha çok `Teknoloji` sektörüne ait verilere benziyor."
   ]
  },
  {
   "cell_type": "markdown",
   "metadata": {},
   "source": [
    "Bu yaptıklarımızı `Real Estate` sektörüne ait verilerle de yapalım."
   ]
  },
  {
   "cell_type": "code",
   "execution_count": 93,
   "metadata": {},
   "outputs": [],
   "source": [
    "real_estate_df = pd.read_csv(\"data/stock_sectors/real_estate_features.csv\")"
   ]
  },
  {
   "cell_type": "code",
   "execution_count": 95,
   "metadata": {},
   "outputs": [],
   "source": [
    "real_estate_df.rename(columns={\"Unnamed: 0\": \"Symbol\"}, inplace=True)\n",
    "# Özel karakterleri alt çizgiyle değiştirme\n",
    "real_estate_df.columns = real_estate_df.columns.str.replace('[^a-zA-Z0-9_]', '_')"
   ]
  },
  {
   "cell_type": "code",
   "execution_count": 96,
   "metadata": {},
   "outputs": [],
   "source": [
    "real_estate_df = drop_missing_features(real_estate_df)"
   ]
  },
  {
   "cell_type": "code",
   "execution_count": 97,
   "metadata": {},
   "outputs": [],
   "source": [
    "X = real_estate_df.drop(columns=[\"Sector\", \"Symbol\"])\n",
    "X = exp.pipeline.fit_transform(X)\n",
    "X = X[FINAL_FEATURE_NAMES]"
   ]
  },
  {
   "cell_type": "code",
   "execution_count": 98,
   "metadata": {},
   "outputs": [],
   "source": [
    "pred = best_model_loaded.predict(X)"
   ]
  },
  {
   "cell_type": "code",
   "execution_count": 99,
   "metadata": {},
   "outputs": [],
   "source": [
    "real_estate_pred_df = pd.DataFrame()\n",
    "real_estate_pred_df[\"Symbol\"] = real_estate_df[real_estate_df.index.isin(X.index)][\"Symbol\"]\n",
    "real_estate_pred_df[\"Prediction\"] = pred\n",
    "real_estate_pred_df[\"Prediction\"] = real_estate_pred_df[\"Prediction\"].map({v: k for k, v in target_encoder.items()})"
   ]
  },
  {
   "cell_type": "code",
   "execution_count": 100,
   "metadata": {},
   "outputs": [
    {
     "data": {
      "text/html": [
       "<div>\n",
       "<style scoped>\n",
       "    .dataframe tbody tr th:only-of-type {\n",
       "        vertical-align: middle;\n",
       "    }\n",
       "\n",
       "    .dataframe tbody tr th {\n",
       "        vertical-align: top;\n",
       "    }\n",
       "\n",
       "    .dataframe thead th {\n",
       "        text-align: right;\n",
       "    }\n",
       "</style>\n",
       "<table border=\"1\" class=\"dataframe\">\n",
       "  <thead>\n",
       "    <tr style=\"text-align: right;\">\n",
       "      <th></th>\n",
       "      <th>Symbol</th>\n",
       "      <th>Prediction</th>\n",
       "    </tr>\n",
       "  </thead>\n",
       "  <tbody>\n",
       "    <tr>\n",
       "      <th>0</th>\n",
       "      <td>AAT</td>\n",
       "      <td>Finance</td>\n",
       "    </tr>\n",
       "    <tr>\n",
       "      <th>1</th>\n",
       "      <td>ABR</td>\n",
       "      <td>Finance</td>\n",
       "    </tr>\n",
       "    <tr>\n",
       "      <th>2</th>\n",
       "      <td>ACR</td>\n",
       "      <td>Finance</td>\n",
       "    </tr>\n",
       "    <tr>\n",
       "      <th>3</th>\n",
       "      <td>ACRE</td>\n",
       "      <td>Finance</td>\n",
       "    </tr>\n",
       "    <tr>\n",
       "      <th>4</th>\n",
       "      <td>ADC</td>\n",
       "      <td>Finance</td>\n",
       "    </tr>\n",
       "  </tbody>\n",
       "</table>\n",
       "</div>"
      ],
      "text/plain": [
       "  Symbol Prediction\n",
       "0    AAT    Finance\n",
       "1    ABR    Finance\n",
       "2    ACR    Finance\n",
       "3   ACRE    Finance\n",
       "4    ADC    Finance"
      ]
     },
     "execution_count": 100,
     "metadata": {},
     "output_type": "execute_result"
    }
   ],
   "source": [
    "real_estate_pred_df.head()"
   ]
  },
  {
   "cell_type": "code",
   "execution_count": 101,
   "metadata": {},
   "outputs": [
    {
     "data": {
      "image/png": "[encoded data removed]",
      "text/plain": [
       "<Figure size 1000x600 with 1 Axes>"
      ]
     },
     "metadata": {},
     "output_type": "display_data"
    }
   ],
   "source": [
    "plot_prediction(real_estate_pred_df, \"Real Estate\")"
   ]
  },
  {
   "cell_type": "markdown",
   "metadata": {},
   "source": [
    "Grafiğe baktığımız zaman `Real Estate` sektörüne ait veriler, bizim modelimize göre daha çok `Finance` sektörüne ait verilere benziyor."
   ]
  }
 ],
 "metadata": {
  "kernelspec": {
   "display_name": "Python 3",
   "language": "python",
   "name": "python3"
  },
  "language_info": {
   "codemirror_mode": {
    "name": "ipython",
    "version": 3
   },
   "file_extension": ".py",
   "mimetype": "text/x-python",
   "name": "python",
   "nbconvert_exporter": "python",
   "pygments_lexer": "ipython3",
   "version": "3.10.9"
  }
 },
 "nbformat": 4,
 "nbformat_minor": 2
}
